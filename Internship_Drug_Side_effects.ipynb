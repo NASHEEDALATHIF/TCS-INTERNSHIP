{
 "cells": [
  {
   "cell_type": "code",
   "execution_count": null,
   "id": "60a15a8b",
   "metadata": {},
   "outputs": [],
   "source": []
  },
  {
   "cell_type": "code",
   "execution_count": 57,
   "id": "d57f712e",
   "metadata": {},
   "outputs": [
    {
     "name": "stdout",
     "output_type": "stream",
     "text": [
      "Requirement already satisfied: faker in c:\\users\\hp\\anaconda3\\lib\\site-packages (14.2.1)\n",
      "Requirement already satisfied: python-dateutil>=2.4 in c:\\users\\hp\\anaconda3\\lib\\site-packages (from faker) (2.8.2)\n",
      "Requirement already satisfied: six>=1.5 in c:\\users\\hp\\anaconda3\\lib\\site-packages (from python-dateutil>=2.4->faker) (1.16.0)\n",
      "Note: you may need to restart the kernel to use updated packages.\n"
     ]
    }
   ],
   "source": [
    "pip install faker"
   ]
  },
  {
   "cell_type": "markdown",
   "id": "4fb2aeb2",
   "metadata": {},
   "source": [
    "\n",
    "# Importing libraries"
   ]
  },
  {
   "cell_type": "code",
   "execution_count": 70,
   "id": "d07b01fa",
   "metadata": {},
   "outputs": [],
   "source": [
    "import pandas as pd\n",
    "import numpy as np\n",
    "import matplotlib.pyplot as plt\n",
    "import seaborn as sns\n",
    "import matplotlib.pyplot as plt\n",
    "%matplotlib inline\n",
    "\n",
    "from faker import Faker\n",
    "\n",
    "import warnings\n",
    "warnings.filterwarnings('ignore')"
   ]
  },
  {
   "cell_type": "code",
   "execution_count": 71,
   "id": "d71db7ff",
   "metadata": {},
   "outputs": [],
   "source": [
    "dt1 = Faker()"
   ]
  },
  {
   "cell_type": "code",
   "execution_count": 72,
   "id": "04ece82b",
   "metadata": {},
   "outputs": [],
   "source": [
    "def create_names(n):\n",
    "   name = []\n",
    "   for _ in range(0, n):\n",
    "        name.append(dt1.name())\n",
    "   return name"
   ]
  },
  {
   "cell_type": "code",
   "execution_count": 73,
   "id": "107e6077",
   "metadata": {},
   "outputs": [],
   "source": [
    "name = create_names(362806)"
   ]
  },
  {
   "cell_type": "code",
   "execution_count": null,
   "id": "82611aa3",
   "metadata": {},
   "outputs": [],
   "source": [
    "dt_name = pd.DataFrame(list(zip(name)),columns = ['Name'])"
   ]
  },
  {
   "cell_type": "code",
   "execution_count": 75,
   "id": "559087db",
   "metadata": {},
   "outputs": [
    {
     "data": {
      "text/html": [
       "<div>\n",
       "<style scoped>\n",
       "    .dataframe tbody tr th:only-of-type {\n",
       "        vertical-align: middle;\n",
       "    }\n",
       "\n",
       "    .dataframe tbody tr th {\n",
       "        vertical-align: top;\n",
       "    }\n",
       "\n",
       "    .dataframe thead th {\n",
       "        text-align: right;\n",
       "    }\n",
       "</style>\n",
       "<table border=\"1\" class=\"dataframe\">\n",
       "  <thead>\n",
       "    <tr style=\"text-align: right;\">\n",
       "      <th></th>\n",
       "      <th>Name</th>\n",
       "    </tr>\n",
       "  </thead>\n",
       "  <tbody>\n",
       "    <tr>\n",
       "      <th>0</th>\n",
       "      <td>Daniel Mcfarland</td>\n",
       "    </tr>\n",
       "    <tr>\n",
       "      <th>1</th>\n",
       "      <td>Rhonda Hansen</td>\n",
       "    </tr>\n",
       "    <tr>\n",
       "      <th>2</th>\n",
       "      <td>Kevin Flores</td>\n",
       "    </tr>\n",
       "    <tr>\n",
       "      <th>3</th>\n",
       "      <td>Martha Sanders</td>\n",
       "    </tr>\n",
       "    <tr>\n",
       "      <th>4</th>\n",
       "      <td>Ryan Reese</td>\n",
       "    </tr>\n",
       "  </tbody>\n",
       "</table>\n",
       "</div>"
      ],
      "text/plain": [
       "               Name\n",
       "0  Daniel Mcfarland\n",
       "1     Rhonda Hansen\n",
       "2      Kevin Flores\n",
       "3    Martha Sanders\n",
       "4        Ryan Reese"
      ]
     },
     "execution_count": 75,
     "metadata": {},
     "output_type": "execute_result"
    }
   ],
   "source": [
    "dt_name.head()"
   ]
  },
  {
   "cell_type": "code",
   "execution_count": 76,
   "id": "fb24c90f",
   "metadata": {},
   "outputs": [],
   "source": [
    "def weighted_cartesian_choice(*iterables):\n",
    "    # An arbitrary number of tuple or lists,each consisting of population and weights.weighted_cartesian_choice returns a list \n",
    "    #with a chocie from each population\n",
    "    \n",
    "    res = []\n",
    "    for population, weights in iterables:\n",
    "     #normalize weight:\n",
    "        weights = np.array(weights) / sum(weights)\n",
    "        lst = np.random.choice(population, p=weights)\n",
    "        res.append(lst)\n",
    "    return res\n",
    "race = (['White','Hispanic', 'Black','Asian'], \n",
    "        [.32,.28,.22,.18])\n",
    "\n",
    "list=[]\n",
    "for i in range(362806):\n",
    "    res = weighted_cartesian_choice(race)\n",
    "    list.append(res)"
   ]
  },
  {
   "cell_type": "code",
   "execution_count": 77,
   "id": "75694c95",
   "metadata": {},
   "outputs": [
    {
     "data": {
      "text/html": [
       "<div>\n",
       "<style scoped>\n",
       "    .dataframe tbody tr th:only-of-type {\n",
       "        vertical-align: middle;\n",
       "    }\n",
       "\n",
       "    .dataframe tbody tr th {\n",
       "        vertical-align: top;\n",
       "    }\n",
       "\n",
       "    .dataframe thead th {\n",
       "        text-align: right;\n",
       "    }\n",
       "</style>\n",
       "<table border=\"1\" class=\"dataframe\">\n",
       "  <thead>\n",
       "    <tr style=\"text-align: right;\">\n",
       "      <th></th>\n",
       "      <th>Race</th>\n",
       "    </tr>\n",
       "  </thead>\n",
       "  <tbody>\n",
       "    <tr>\n",
       "      <th>0</th>\n",
       "      <td>Asian</td>\n",
       "    </tr>\n",
       "    <tr>\n",
       "      <th>1</th>\n",
       "      <td>White</td>\n",
       "    </tr>\n",
       "    <tr>\n",
       "      <th>2</th>\n",
       "      <td>Hispanic</td>\n",
       "    </tr>\n",
       "    <tr>\n",
       "      <th>3</th>\n",
       "      <td>White</td>\n",
       "    </tr>\n",
       "    <tr>\n",
       "      <th>4</th>\n",
       "      <td>Black</td>\n",
       "    </tr>\n",
       "  </tbody>\n",
       "</table>\n",
       "</div>"
      ],
      "text/plain": [
       "       Race\n",
       "0     Asian\n",
       "1     White\n",
       "2  Hispanic\n",
       "3     White\n",
       "4     Black"
      ]
     },
     "execution_count": 77,
     "metadata": {},
     "output_type": "execute_result"
    }
   ],
   "source": [
    "dt_race=pd.DataFrame(list, columns = ['Race'])\n",
    "dt_race.head()"
   ]
  },
  {
   "cell_type": "code",
   "execution_count": null,
   "id": "7f96c6ed",
   "metadata": {},
   "outputs": [],
   "source": []
  },
  {
   "cell_type": "markdown",
   "id": "9c3386e0",
   "metadata": {},
   "source": [
    "# Loading the dataset"
   ]
  },
  {
   "cell_type": "code",
   "execution_count": 78,
   "id": "0e0ae1c9",
   "metadata": {},
   "outputs": [],
   "source": [
    "dt_drugs=pd.read_csv(\"webmd.csv\")"
   ]
  },
  {
   "cell_type": "code",
   "execution_count": 79,
   "id": "ae7a8362",
   "metadata": {},
   "outputs": [
    {
     "data": {
      "text/html": [
       "<div>\n",
       "<style scoped>\n",
       "    .dataframe tbody tr th:only-of-type {\n",
       "        vertical-align: middle;\n",
       "    }\n",
       "\n",
       "    .dataframe tbody tr th {\n",
       "        vertical-align: top;\n",
       "    }\n",
       "\n",
       "    .dataframe thead th {\n",
       "        text-align: right;\n",
       "    }\n",
       "</style>\n",
       "<table border=\"1\" class=\"dataframe\">\n",
       "  <thead>\n",
       "    <tr style=\"text-align: right;\">\n",
       "      <th></th>\n",
       "      <th>Age</th>\n",
       "      <th>Condition</th>\n",
       "      <th>Date</th>\n",
       "      <th>Drug</th>\n",
       "      <th>DrugId</th>\n",
       "      <th>EaseofUse</th>\n",
       "      <th>Effectiveness</th>\n",
       "      <th>Reviews</th>\n",
       "      <th>Satisfaction</th>\n",
       "      <th>Sex</th>\n",
       "      <th>Sides</th>\n",
       "      <th>UsefulCount</th>\n",
       "    </tr>\n",
       "  </thead>\n",
       "  <tbody>\n",
       "    <tr>\n",
       "      <th>0</th>\n",
       "      <td>75 or over</td>\n",
       "      <td>Stuffy Nose</td>\n",
       "      <td>9/21/2014</td>\n",
       "      <td>25dph-7.5peh</td>\n",
       "      <td>146724</td>\n",
       "      <td>5</td>\n",
       "      <td>5</td>\n",
       "      <td>I'm a retired physician and of all the meds I ...</td>\n",
       "      <td>5</td>\n",
       "      <td>Male</td>\n",
       "      <td>Drowsiness,  dizziness ,  dry mouth /nose/thro...</td>\n",
       "      <td>0</td>\n",
       "    </tr>\n",
       "    <tr>\n",
       "      <th>1</th>\n",
       "      <td>25-34</td>\n",
       "      <td>Cold Symptoms</td>\n",
       "      <td>1/13/2011</td>\n",
       "      <td>25dph-7.5peh</td>\n",
       "      <td>146724</td>\n",
       "      <td>5</td>\n",
       "      <td>5</td>\n",
       "      <td>cleared me right up even with my throat hurtin...</td>\n",
       "      <td>5</td>\n",
       "      <td>Female</td>\n",
       "      <td>Drowsiness,  dizziness ,  dry mouth /nose/thro...</td>\n",
       "      <td>1</td>\n",
       "    </tr>\n",
       "    <tr>\n",
       "      <th>2</th>\n",
       "      <td>65-74</td>\n",
       "      <td>Other</td>\n",
       "      <td>7/16/2012</td>\n",
       "      <td>warfarin (bulk) 100 % powder</td>\n",
       "      <td>144731</td>\n",
       "      <td>2</td>\n",
       "      <td>3</td>\n",
       "      <td>why did my PTINR go from a normal of 2.5 to ov...</td>\n",
       "      <td>3</td>\n",
       "      <td>Female</td>\n",
       "      <td></td>\n",
       "      <td>0</td>\n",
       "    </tr>\n",
       "    <tr>\n",
       "      <th>3</th>\n",
       "      <td>75 or over</td>\n",
       "      <td>Other</td>\n",
       "      <td>9/23/2010</td>\n",
       "      <td>warfarin (bulk) 100 % powder</td>\n",
       "      <td>144731</td>\n",
       "      <td>2</td>\n",
       "      <td>2</td>\n",
       "      <td>FALLING AND DON'T REALISE IT</td>\n",
       "      <td>1</td>\n",
       "      <td>Female</td>\n",
       "      <td></td>\n",
       "      <td>0</td>\n",
       "    </tr>\n",
       "    <tr>\n",
       "      <th>4</th>\n",
       "      <td>35-44</td>\n",
       "      <td>Other</td>\n",
       "      <td>1/6/2009</td>\n",
       "      <td>warfarin (bulk) 100 % powder</td>\n",
       "      <td>144731</td>\n",
       "      <td>1</td>\n",
       "      <td>1</td>\n",
       "      <td>My grandfather was prescribed this medication ...</td>\n",
       "      <td>1</td>\n",
       "      <td>Male</td>\n",
       "      <td></td>\n",
       "      <td>1</td>\n",
       "    </tr>\n",
       "  </tbody>\n",
       "</table>\n",
       "</div>"
      ],
      "text/plain": [
       "          Age      Condition       Date                          Drug  DrugId  \\\n",
       "0  75 or over    Stuffy Nose  9/21/2014                  25dph-7.5peh  146724   \n",
       "1       25-34  Cold Symptoms  1/13/2011                  25dph-7.5peh  146724   \n",
       "2       65-74          Other  7/16/2012  warfarin (bulk) 100 % powder  144731   \n",
       "3  75 or over          Other  9/23/2010  warfarin (bulk) 100 % powder  144731   \n",
       "4       35-44          Other   1/6/2009  warfarin (bulk) 100 % powder  144731   \n",
       "\n",
       "   EaseofUse  Effectiveness  \\\n",
       "0          5              5   \n",
       "1          5              5   \n",
       "2          2              3   \n",
       "3          2              2   \n",
       "4          1              1   \n",
       "\n",
       "                                             Reviews  Satisfaction     Sex  \\\n",
       "0  I'm a retired physician and of all the meds I ...             5    Male   \n",
       "1  cleared me right up even with my throat hurtin...             5  Female   \n",
       "2  why did my PTINR go from a normal of 2.5 to ov...             3  Female   \n",
       "3                       FALLING AND DON'T REALISE IT             1  Female   \n",
       "4  My grandfather was prescribed this medication ...             1    Male   \n",
       "\n",
       "                                               Sides  UsefulCount  \n",
       "0  Drowsiness,  dizziness ,  dry mouth /nose/thro...            0  \n",
       "1  Drowsiness,  dizziness ,  dry mouth /nose/thro...            1  \n",
       "2                                                               0  \n",
       "3                                                               0  \n",
       "4                                                               1  "
      ]
     },
     "execution_count": 79,
     "metadata": {},
     "output_type": "execute_result"
    }
   ],
   "source": [
    "dt_drugs.head()"
   ]
  },
  {
   "cell_type": "markdown",
   "id": "271bdbbb",
   "metadata": {},
   "source": [
    "# Making final dataset"
   ]
  },
  {
   "cell_type": "code",
   "execution_count": 80,
   "id": "b8a91950",
   "metadata": {},
   "outputs": [],
   "source": [
    "dt_new = pd.concat([dt_name, dt_race], axis=1).reindex(dt_race.index)"
   ]
  },
  {
   "cell_type": "code",
   "execution_count": 81,
   "id": "ac11b2cf",
   "metadata": {},
   "outputs": [],
   "source": [
    "data = pd.concat([dt_new, dt_drugs], axis=1).reindex(dt_drugs.index)"
   ]
  },
  {
   "cell_type": "code",
   "execution_count": 82,
   "id": "1a5b8b3e",
   "metadata": {},
   "outputs": [
    {
     "data": {
      "text/html": [
       "<div>\n",
       "<style scoped>\n",
       "    .dataframe tbody tr th:only-of-type {\n",
       "        vertical-align: middle;\n",
       "    }\n",
       "\n",
       "    .dataframe tbody tr th {\n",
       "        vertical-align: top;\n",
       "    }\n",
       "\n",
       "    .dataframe thead th {\n",
       "        text-align: right;\n",
       "    }\n",
       "</style>\n",
       "<table border=\"1\" class=\"dataframe\">\n",
       "  <thead>\n",
       "    <tr style=\"text-align: right;\">\n",
       "      <th></th>\n",
       "      <th>Name</th>\n",
       "      <th>Race</th>\n",
       "      <th>Age</th>\n",
       "      <th>Condition</th>\n",
       "      <th>Date</th>\n",
       "      <th>Drug</th>\n",
       "      <th>DrugId</th>\n",
       "      <th>EaseofUse</th>\n",
       "      <th>Effectiveness</th>\n",
       "      <th>Reviews</th>\n",
       "      <th>Satisfaction</th>\n",
       "      <th>Sex</th>\n",
       "      <th>Sides</th>\n",
       "      <th>UsefulCount</th>\n",
       "    </tr>\n",
       "  </thead>\n",
       "  <tbody>\n",
       "    <tr>\n",
       "      <th>0</th>\n",
       "      <td>Daniel Mcfarland</td>\n",
       "      <td>Asian</td>\n",
       "      <td>75 or over</td>\n",
       "      <td>Stuffy Nose</td>\n",
       "      <td>9/21/2014</td>\n",
       "      <td>25dph-7.5peh</td>\n",
       "      <td>146724</td>\n",
       "      <td>5</td>\n",
       "      <td>5</td>\n",
       "      <td>I'm a retired physician and of all the meds I ...</td>\n",
       "      <td>5</td>\n",
       "      <td>Male</td>\n",
       "      <td>Drowsiness,  dizziness ,  dry mouth /nose/thro...</td>\n",
       "      <td>0</td>\n",
       "    </tr>\n",
       "    <tr>\n",
       "      <th>1</th>\n",
       "      <td>Rhonda Hansen</td>\n",
       "      <td>White</td>\n",
       "      <td>25-34</td>\n",
       "      <td>Cold Symptoms</td>\n",
       "      <td>1/13/2011</td>\n",
       "      <td>25dph-7.5peh</td>\n",
       "      <td>146724</td>\n",
       "      <td>5</td>\n",
       "      <td>5</td>\n",
       "      <td>cleared me right up even with my throat hurtin...</td>\n",
       "      <td>5</td>\n",
       "      <td>Female</td>\n",
       "      <td>Drowsiness,  dizziness ,  dry mouth /nose/thro...</td>\n",
       "      <td>1</td>\n",
       "    </tr>\n",
       "    <tr>\n",
       "      <th>2</th>\n",
       "      <td>Kevin Flores</td>\n",
       "      <td>Hispanic</td>\n",
       "      <td>65-74</td>\n",
       "      <td>Other</td>\n",
       "      <td>7/16/2012</td>\n",
       "      <td>warfarin (bulk) 100 % powder</td>\n",
       "      <td>144731</td>\n",
       "      <td>2</td>\n",
       "      <td>3</td>\n",
       "      <td>why did my PTINR go from a normal of 2.5 to ov...</td>\n",
       "      <td>3</td>\n",
       "      <td>Female</td>\n",
       "      <td></td>\n",
       "      <td>0</td>\n",
       "    </tr>\n",
       "    <tr>\n",
       "      <th>3</th>\n",
       "      <td>Martha Sanders</td>\n",
       "      <td>White</td>\n",
       "      <td>75 or over</td>\n",
       "      <td>Other</td>\n",
       "      <td>9/23/2010</td>\n",
       "      <td>warfarin (bulk) 100 % powder</td>\n",
       "      <td>144731</td>\n",
       "      <td>2</td>\n",
       "      <td>2</td>\n",
       "      <td>FALLING AND DON'T REALISE IT</td>\n",
       "      <td>1</td>\n",
       "      <td>Female</td>\n",
       "      <td></td>\n",
       "      <td>0</td>\n",
       "    </tr>\n",
       "    <tr>\n",
       "      <th>4</th>\n",
       "      <td>Ryan Reese</td>\n",
       "      <td>Black</td>\n",
       "      <td>35-44</td>\n",
       "      <td>Other</td>\n",
       "      <td>1/6/2009</td>\n",
       "      <td>warfarin (bulk) 100 % powder</td>\n",
       "      <td>144731</td>\n",
       "      <td>1</td>\n",
       "      <td>1</td>\n",
       "      <td>My grandfather was prescribed this medication ...</td>\n",
       "      <td>1</td>\n",
       "      <td>Male</td>\n",
       "      <td></td>\n",
       "      <td>1</td>\n",
       "    </tr>\n",
       "  </tbody>\n",
       "</table>\n",
       "</div>"
      ],
      "text/plain": [
       "               Name      Race         Age      Condition       Date  \\\n",
       "0  Daniel Mcfarland     Asian  75 or over    Stuffy Nose  9/21/2014   \n",
       "1     Rhonda Hansen     White       25-34  Cold Symptoms  1/13/2011   \n",
       "2      Kevin Flores  Hispanic       65-74          Other  7/16/2012   \n",
       "3    Martha Sanders     White  75 or over          Other  9/23/2010   \n",
       "4        Ryan Reese     Black       35-44          Other   1/6/2009   \n",
       "\n",
       "                           Drug  DrugId  EaseofUse  Effectiveness  \\\n",
       "0                  25dph-7.5peh  146724          5              5   \n",
       "1                  25dph-7.5peh  146724          5              5   \n",
       "2  warfarin (bulk) 100 % powder  144731          2              3   \n",
       "3  warfarin (bulk) 100 % powder  144731          2              2   \n",
       "4  warfarin (bulk) 100 % powder  144731          1              1   \n",
       "\n",
       "                                             Reviews  Satisfaction     Sex  \\\n",
       "0  I'm a retired physician and of all the meds I ...             5    Male   \n",
       "1  cleared me right up even with my throat hurtin...             5  Female   \n",
       "2  why did my PTINR go from a normal of 2.5 to ov...             3  Female   \n",
       "3                       FALLING AND DON'T REALISE IT             1  Female   \n",
       "4  My grandfather was prescribed this medication ...             1    Male   \n",
       "\n",
       "                                               Sides  UsefulCount  \n",
       "0  Drowsiness,  dizziness ,  dry mouth /nose/thro...            0  \n",
       "1  Drowsiness,  dizziness ,  dry mouth /nose/thro...            1  \n",
       "2                                                               0  \n",
       "3                                                               0  \n",
       "4                                                               1  "
      ]
     },
     "execution_count": 82,
     "metadata": {},
     "output_type": "execute_result"
    }
   ],
   "source": [
    "data.head()"
   ]
  },
  {
   "cell_type": "markdown",
   "id": "ff55c66c",
   "metadata": {},
   "source": [
    "# Dataset column description"
   ]
  },
  {
   "cell_type": "markdown",
   "id": "d4df14cf",
   "metadata": {},
   "source": [
    "Name : Name of the patient\n",
    "\n",
    "Race : Race of the patient\n",
    "\n",
    "Age : Age of the patient\n",
    "\n",
    "Condition : Condition/symptom from which the patient is suffering\n",
    "\n",
    "Date : Date of usage\n",
    "\n",
    "Drug : Name of the drug\n",
    "\n",
    "DrugId : Identity/code of drug\n",
    "\n",
    "EaseofUse : Patient's 10-Star rating on the ease of use of drug\n",
    "\n",
    "Effectiveness : Patient's 10-Star rating on the effectiveness of drug\n",
    "\n",
    "Reviews : Patient's review\n",
    "\n",
    "Satisfaction : Patient's 10-Star rating on satisfaction\n",
    "\n",
    "Sex : Gender of the patient\n",
    "\n",
    "Sides : Side effects of the drug\n",
    "\n",
    "UsefulCount : Number of users who found the review useful"
   ]
  },
  {
   "cell_type": "markdown",
   "id": "a978b38c",
   "metadata": {},
   "source": [
    "# Data Exploration"
   ]
  },
  {
   "cell_type": "code",
   "execution_count": 83,
   "id": "fa621997",
   "metadata": {},
   "outputs": [
    {
     "data": {
      "text/html": [
       "<div>\n",
       "<style scoped>\n",
       "    .dataframe tbody tr th:only-of-type {\n",
       "        vertical-align: middle;\n",
       "    }\n",
       "\n",
       "    .dataframe tbody tr th {\n",
       "        vertical-align: top;\n",
       "    }\n",
       "\n",
       "    .dataframe thead th {\n",
       "        text-align: right;\n",
       "    }\n",
       "</style>\n",
       "<table border=\"1\" class=\"dataframe\">\n",
       "  <thead>\n",
       "    <tr style=\"text-align: right;\">\n",
       "      <th></th>\n",
       "      <th>Name</th>\n",
       "      <th>Race</th>\n",
       "      <th>Age</th>\n",
       "      <th>Condition</th>\n",
       "      <th>Date</th>\n",
       "      <th>Drug</th>\n",
       "      <th>DrugId</th>\n",
       "      <th>EaseofUse</th>\n",
       "      <th>Effectiveness</th>\n",
       "      <th>Reviews</th>\n",
       "      <th>Satisfaction</th>\n",
       "      <th>Sex</th>\n",
       "      <th>Sides</th>\n",
       "      <th>UsefulCount</th>\n",
       "    </tr>\n",
       "  </thead>\n",
       "  <tbody>\n",
       "    <tr>\n",
       "      <th>0</th>\n",
       "      <td>Daniel Mcfarland</td>\n",
       "      <td>Asian</td>\n",
       "      <td>75 or over</td>\n",
       "      <td>Stuffy Nose</td>\n",
       "      <td>9/21/2014</td>\n",
       "      <td>25dph-7.5peh</td>\n",
       "      <td>146724</td>\n",
       "      <td>5</td>\n",
       "      <td>5</td>\n",
       "      <td>I'm a retired physician and of all the meds I ...</td>\n",
       "      <td>5</td>\n",
       "      <td>Male</td>\n",
       "      <td>Drowsiness,  dizziness ,  dry mouth /nose/thro...</td>\n",
       "      <td>0</td>\n",
       "    </tr>\n",
       "    <tr>\n",
       "      <th>1</th>\n",
       "      <td>Rhonda Hansen</td>\n",
       "      <td>White</td>\n",
       "      <td>25-34</td>\n",
       "      <td>Cold Symptoms</td>\n",
       "      <td>1/13/2011</td>\n",
       "      <td>25dph-7.5peh</td>\n",
       "      <td>146724</td>\n",
       "      <td>5</td>\n",
       "      <td>5</td>\n",
       "      <td>cleared me right up even with my throat hurtin...</td>\n",
       "      <td>5</td>\n",
       "      <td>Female</td>\n",
       "      <td>Drowsiness,  dizziness ,  dry mouth /nose/thro...</td>\n",
       "      <td>1</td>\n",
       "    </tr>\n",
       "    <tr>\n",
       "      <th>2</th>\n",
       "      <td>Kevin Flores</td>\n",
       "      <td>Hispanic</td>\n",
       "      <td>65-74</td>\n",
       "      <td>Other</td>\n",
       "      <td>7/16/2012</td>\n",
       "      <td>warfarin (bulk) 100 % powder</td>\n",
       "      <td>144731</td>\n",
       "      <td>2</td>\n",
       "      <td>3</td>\n",
       "      <td>why did my PTINR go from a normal of 2.5 to ov...</td>\n",
       "      <td>3</td>\n",
       "      <td>Female</td>\n",
       "      <td></td>\n",
       "      <td>0</td>\n",
       "    </tr>\n",
       "    <tr>\n",
       "      <th>3</th>\n",
       "      <td>Martha Sanders</td>\n",
       "      <td>White</td>\n",
       "      <td>75 or over</td>\n",
       "      <td>Other</td>\n",
       "      <td>9/23/2010</td>\n",
       "      <td>warfarin (bulk) 100 % powder</td>\n",
       "      <td>144731</td>\n",
       "      <td>2</td>\n",
       "      <td>2</td>\n",
       "      <td>FALLING AND DON'T REALISE IT</td>\n",
       "      <td>1</td>\n",
       "      <td>Female</td>\n",
       "      <td></td>\n",
       "      <td>0</td>\n",
       "    </tr>\n",
       "    <tr>\n",
       "      <th>4</th>\n",
       "      <td>Ryan Reese</td>\n",
       "      <td>Black</td>\n",
       "      <td>35-44</td>\n",
       "      <td>Other</td>\n",
       "      <td>1/6/2009</td>\n",
       "      <td>warfarin (bulk) 100 % powder</td>\n",
       "      <td>144731</td>\n",
       "      <td>1</td>\n",
       "      <td>1</td>\n",
       "      <td>My grandfather was prescribed this medication ...</td>\n",
       "      <td>1</td>\n",
       "      <td>Male</td>\n",
       "      <td></td>\n",
       "      <td>1</td>\n",
       "    </tr>\n",
       "  </tbody>\n",
       "</table>\n",
       "</div>"
      ],
      "text/plain": [
       "               Name      Race         Age      Condition       Date  \\\n",
       "0  Daniel Mcfarland     Asian  75 or over    Stuffy Nose  9/21/2014   \n",
       "1     Rhonda Hansen     White       25-34  Cold Symptoms  1/13/2011   \n",
       "2      Kevin Flores  Hispanic       65-74          Other  7/16/2012   \n",
       "3    Martha Sanders     White  75 or over          Other  9/23/2010   \n",
       "4        Ryan Reese     Black       35-44          Other   1/6/2009   \n",
       "\n",
       "                           Drug  DrugId  EaseofUse  Effectiveness  \\\n",
       "0                  25dph-7.5peh  146724          5              5   \n",
       "1                  25dph-7.5peh  146724          5              5   \n",
       "2  warfarin (bulk) 100 % powder  144731          2              3   \n",
       "3  warfarin (bulk) 100 % powder  144731          2              2   \n",
       "4  warfarin (bulk) 100 % powder  144731          1              1   \n",
       "\n",
       "                                             Reviews  Satisfaction     Sex  \\\n",
       "0  I'm a retired physician and of all the meds I ...             5    Male   \n",
       "1  cleared me right up even with my throat hurtin...             5  Female   \n",
       "2  why did my PTINR go from a normal of 2.5 to ov...             3  Female   \n",
       "3                       FALLING AND DON'T REALISE IT             1  Female   \n",
       "4  My grandfather was prescribed this medication ...             1    Male   \n",
       "\n",
       "                                               Sides  UsefulCount  \n",
       "0  Drowsiness,  dizziness ,  dry mouth /nose/thro...            0  \n",
       "1  Drowsiness,  dizziness ,  dry mouth /nose/thro...            1  \n",
       "2                                                               0  \n",
       "3                                                               0  \n",
       "4                                                               1  "
      ]
     },
     "execution_count": 83,
     "metadata": {},
     "output_type": "execute_result"
    }
   ],
   "source": [
    "#First five raws\n",
    "data.head(5)"
   ]
  },
  {
   "cell_type": "code",
   "execution_count": 21,
   "id": "1308321d",
   "metadata": {},
   "outputs": [
    {
     "data": {
      "text/html": [
       "<div>\n",
       "<style scoped>\n",
       "    .dataframe tbody tr th:only-of-type {\n",
       "        vertical-align: middle;\n",
       "    }\n",
       "\n",
       "    .dataframe tbody tr th {\n",
       "        vertical-align: top;\n",
       "    }\n",
       "\n",
       "    .dataframe thead th {\n",
       "        text-align: right;\n",
       "    }\n",
       "</style>\n",
       "<table border=\"1\" class=\"dataframe\">\n",
       "  <thead>\n",
       "    <tr style=\"text-align: right;\">\n",
       "      <th></th>\n",
       "      <th>Name</th>\n",
       "      <th>Race</th>\n",
       "      <th>Age</th>\n",
       "      <th>Condition</th>\n",
       "      <th>Date</th>\n",
       "      <th>Drug</th>\n",
       "      <th>DrugId</th>\n",
       "      <th>EaseofUse</th>\n",
       "      <th>Effectiveness</th>\n",
       "      <th>Reviews</th>\n",
       "      <th>Satisfaction</th>\n",
       "      <th>Sex</th>\n",
       "      <th>Sides</th>\n",
       "      <th>UsefulCount</th>\n",
       "    </tr>\n",
       "  </thead>\n",
       "  <tbody>\n",
       "    <tr>\n",
       "      <th>362801</th>\n",
       "      <td>Tyler Clark PhD</td>\n",
       "      <td>Hispanic</td>\n",
       "      <td>55-64</td>\n",
       "      <td>Stop Smoking</td>\n",
       "      <td>11/14/2008</td>\n",
       "      <td>chantix</td>\n",
       "      <td>144470</td>\n",
       "      <td>5</td>\n",
       "      <td>5</td>\n",
       "      <td>I took the whole 12 weeks.I could have stopped...</td>\n",
       "      <td>5</td>\n",
       "      <td>Female</td>\n",
       "      <td>Nausea ,  headache ,  vomiting , drowsiness, g...</td>\n",
       "      <td>2</td>\n",
       "    </tr>\n",
       "    <tr>\n",
       "      <th>362802</th>\n",
       "      <td>Robert Price</td>\n",
       "      <td>Black</td>\n",
       "      <td></td>\n",
       "      <td>Other</td>\n",
       "      <td>11/14/2008</td>\n",
       "      <td>chantix</td>\n",
       "      <td>144470</td>\n",
       "      <td>2</td>\n",
       "      <td>3</td>\n",
       "      <td>My dad strated taking Chantix about 1 month ag...</td>\n",
       "      <td>1</td>\n",
       "      <td></td>\n",
       "      <td>Nausea ,  headache ,  vomiting , drowsiness, g...</td>\n",
       "      <td>16</td>\n",
       "    </tr>\n",
       "    <tr>\n",
       "      <th>362803</th>\n",
       "      <td>Patricia Palmer</td>\n",
       "      <td>Hispanic</td>\n",
       "      <td>25-34</td>\n",
       "      <td>Stop Smoking</td>\n",
       "      <td>11/13/2008</td>\n",
       "      <td>chantix</td>\n",
       "      <td>144470</td>\n",
       "      <td>2</td>\n",
       "      <td>4</td>\n",
       "      <td>As long as I was on chantix, I didn't smoke.  ...</td>\n",
       "      <td>2</td>\n",
       "      <td>Female</td>\n",
       "      <td>Nausea ,  headache ,  vomiting , drowsiness, g...</td>\n",
       "      <td>3</td>\n",
       "    </tr>\n",
       "    <tr>\n",
       "      <th>362804</th>\n",
       "      <td>John Turner</td>\n",
       "      <td>Hispanic</td>\n",
       "      <td>55-64</td>\n",
       "      <td>Stop Smoking</td>\n",
       "      <td>11/13/2008</td>\n",
       "      <td>chantix</td>\n",
       "      <td>144470</td>\n",
       "      <td>5</td>\n",
       "      <td>5</td>\n",
       "      <td>Started this medication Oct 5th 2008. Haven't ...</td>\n",
       "      <td>5</td>\n",
       "      <td>Male</td>\n",
       "      <td>Nausea ,  headache ,  vomiting , drowsiness, g...</td>\n",
       "      <td>1</td>\n",
       "    </tr>\n",
       "    <tr>\n",
       "      <th>362805</th>\n",
       "      <td>Kyle Gill</td>\n",
       "      <td>Black</td>\n",
       "      <td>45-54</td>\n",
       "      <td>Stop Smoking</td>\n",
       "      <td>11/12/2008</td>\n",
       "      <td>chantix</td>\n",
       "      <td>144470</td>\n",
       "      <td>4</td>\n",
       "      <td>5</td>\n",
       "      <td>One year ago, I tried Chantix and had to stop ...</td>\n",
       "      <td>5</td>\n",
       "      <td>Female</td>\n",
       "      <td>Nausea ,  headache ,  vomiting , drowsiness, g...</td>\n",
       "      <td>3</td>\n",
       "    </tr>\n",
       "  </tbody>\n",
       "</table>\n",
       "</div>"
      ],
      "text/plain": [
       "                   Name      Race    Age     Condition        Date     Drug  \\\n",
       "362801  Tyler Clark PhD  Hispanic  55-64  Stop Smoking  11/14/2008  chantix   \n",
       "362802     Robert Price     Black                Other  11/14/2008  chantix   \n",
       "362803  Patricia Palmer  Hispanic  25-34  Stop Smoking  11/13/2008  chantix   \n",
       "362804      John Turner  Hispanic  55-64  Stop Smoking  11/13/2008  chantix   \n",
       "362805        Kyle Gill     Black  45-54  Stop Smoking  11/12/2008  chantix   \n",
       "\n",
       "        DrugId  EaseofUse  Effectiveness  \\\n",
       "362801  144470          5              5   \n",
       "362802  144470          2              3   \n",
       "362803  144470          2              4   \n",
       "362804  144470          5              5   \n",
       "362805  144470          4              5   \n",
       "\n",
       "                                                  Reviews  Satisfaction  \\\n",
       "362801  I took the whole 12 weeks.I could have stopped...             5   \n",
       "362802  My dad strated taking Chantix about 1 month ag...             1   \n",
       "362803  As long as I was on chantix, I didn't smoke.  ...             2   \n",
       "362804  Started this medication Oct 5th 2008. Haven't ...             5   \n",
       "362805  One year ago, I tried Chantix and had to stop ...             5   \n",
       "\n",
       "           Sex                                              Sides  UsefulCount  \n",
       "362801  Female  Nausea ,  headache ,  vomiting , drowsiness, g...            2  \n",
       "362802          Nausea ,  headache ,  vomiting , drowsiness, g...           16  \n",
       "362803  Female  Nausea ,  headache ,  vomiting , drowsiness, g...            3  \n",
       "362804    Male  Nausea ,  headache ,  vomiting , drowsiness, g...            1  \n",
       "362805  Female  Nausea ,  headache ,  vomiting , drowsiness, g...            3  "
      ]
     },
     "execution_count": 21,
     "metadata": {},
     "output_type": "execute_result"
    }
   ],
   "source": [
    "#Last five raws\n",
    "data.tail(5)"
   ]
  },
  {
   "cell_type": "code",
   "execution_count": 22,
   "id": "4f01f79d",
   "metadata": {},
   "outputs": [
    {
     "data": {
      "text/plain": [
       "(362806, 14)"
      ]
     },
     "execution_count": 22,
     "metadata": {},
     "output_type": "execute_result"
    }
   ],
   "source": [
    "#Raws and columns\n",
    "data.shape"
   ]
  },
  {
   "cell_type": "code",
   "execution_count": 23,
   "id": "718fff3b",
   "metadata": {},
   "outputs": [
    {
     "data": {
      "text/plain": [
       "Index(['Name', 'Race', 'Age', 'Condition', 'Date', 'Drug', 'DrugId',\n",
       "       'EaseofUse', 'Effectiveness', 'Reviews', 'Satisfaction', 'Sex', 'Sides',\n",
       "       'UsefulCount'],\n",
       "      dtype='object')"
      ]
     },
     "execution_count": 23,
     "metadata": {},
     "output_type": "execute_result"
    }
   ],
   "source": [
    "#Columns\n",
    "data.columns"
   ]
  },
  {
   "cell_type": "code",
   "execution_count": 24,
   "id": "c4598082",
   "metadata": {},
   "outputs": [
    {
     "data": {
      "text/plain": [
       "Name             object\n",
       "Race             object\n",
       "Age              object\n",
       "Condition        object\n",
       "Date             object\n",
       "Drug             object\n",
       "DrugId            int64\n",
       "EaseofUse         int64\n",
       "Effectiveness     int64\n",
       "Reviews          object\n",
       "Satisfaction      int64\n",
       "Sex              object\n",
       "Sides            object\n",
       "UsefulCount       int64\n",
       "dtype: object"
      ]
     },
     "execution_count": 24,
     "metadata": {},
     "output_type": "execute_result"
    }
   ],
   "source": [
    "#Data types\n",
    "data.dtypes"
   ]
  },
  {
   "cell_type": "code",
   "execution_count": 25,
   "id": "51875fe7",
   "metadata": {},
   "outputs": [
    {
     "name": "stdout",
     "output_type": "stream",
     "text": [
      "<class 'pandas.core.frame.DataFrame'>\n",
      "RangeIndex: 362806 entries, 0 to 362805\n",
      "Data columns (total 14 columns):\n",
      " #   Column         Non-Null Count   Dtype \n",
      "---  ------         --------------   ----- \n",
      " 0   Name           362806 non-null  object\n",
      " 1   Race           362806 non-null  object\n",
      " 2   Age            362806 non-null  object\n",
      " 3   Condition      362806 non-null  object\n",
      " 4   Date           362806 non-null  object\n",
      " 5   Drug           362806 non-null  object\n",
      " 6   DrugId         362806 non-null  int64 \n",
      " 7   EaseofUse      362806 non-null  int64 \n",
      " 8   Effectiveness  362806 non-null  int64 \n",
      " 9   Reviews        362769 non-null  object\n",
      " 10  Satisfaction   362806 non-null  int64 \n",
      " 11  Sex            362806 non-null  object\n",
      " 12  Sides          362806 non-null  object\n",
      " 13  UsefulCount    362806 non-null  int64 \n",
      "dtypes: int64(5), object(9)\n",
      "memory usage: 38.8+ MB\n"
     ]
    }
   ],
   "source": [
    "data.info()"
   ]
  },
  {
   "cell_type": "code",
   "execution_count": 25,
   "id": "e9ef4e18",
   "metadata": {},
   "outputs": [
    {
     "data": {
      "text/html": [
       "<div>\n",
       "<style scoped>\n",
       "    .dataframe tbody tr th:only-of-type {\n",
       "        vertical-align: middle;\n",
       "    }\n",
       "\n",
       "    .dataframe tbody tr th {\n",
       "        vertical-align: top;\n",
       "    }\n",
       "\n",
       "    .dataframe thead th {\n",
       "        text-align: right;\n",
       "    }\n",
       "</style>\n",
       "<table border=\"1\" class=\"dataframe\">\n",
       "  <thead>\n",
       "    <tr style=\"text-align: right;\">\n",
       "      <th></th>\n",
       "      <th>DrugId</th>\n",
       "      <th>EaseofUse</th>\n",
       "      <th>Effectiveness</th>\n",
       "      <th>Satisfaction</th>\n",
       "      <th>UsefulCount</th>\n",
       "    </tr>\n",
       "  </thead>\n",
       "  <tbody>\n",
       "    <tr>\n",
       "      <th>count</th>\n",
       "      <td>362806.000000</td>\n",
       "      <td>362806.000000</td>\n",
       "      <td>362806.000000</td>\n",
       "      <td>362806.000000</td>\n",
       "      <td>362806.000000</td>\n",
       "    </tr>\n",
       "    <tr>\n",
       "      <th>mean</th>\n",
       "      <td>36879.370774</td>\n",
       "      <td>4.019829</td>\n",
       "      <td>3.532061</td>\n",
       "      <td>3.135408</td>\n",
       "      <td>6.744916</td>\n",
       "    </tr>\n",
       "    <tr>\n",
       "      <th>std</th>\n",
       "      <td>52624.412971</td>\n",
       "      <td>1.317711</td>\n",
       "      <td>1.455961</td>\n",
       "      <td>1.611106</td>\n",
       "      <td>9.324240</td>\n",
       "    </tr>\n",
       "    <tr>\n",
       "      <th>min</th>\n",
       "      <td>1.000000</td>\n",
       "      <td>1.000000</td>\n",
       "      <td>1.000000</td>\n",
       "      <td>1.000000</td>\n",
       "      <td>0.000000</td>\n",
       "    </tr>\n",
       "    <tr>\n",
       "      <th>25%</th>\n",
       "      <td>4896.000000</td>\n",
       "      <td>3.000000</td>\n",
       "      <td>3.000000</td>\n",
       "      <td>1.000000</td>\n",
       "      <td>1.000000</td>\n",
       "    </tr>\n",
       "    <tr>\n",
       "      <th>50%</th>\n",
       "      <td>9548.000000</td>\n",
       "      <td>5.000000</td>\n",
       "      <td>4.000000</td>\n",
       "      <td>3.000000</td>\n",
       "      <td>4.000000</td>\n",
       "    </tr>\n",
       "    <tr>\n",
       "      <th>75%</th>\n",
       "      <td>63522.000000</td>\n",
       "      <td>5.000000</td>\n",
       "      <td>5.000000</td>\n",
       "      <td>5.000000</td>\n",
       "      <td>9.000000</td>\n",
       "    </tr>\n",
       "    <tr>\n",
       "      <th>max</th>\n",
       "      <td>178546.000000</td>\n",
       "      <td>10.000000</td>\n",
       "      <td>10.000000</td>\n",
       "      <td>10.000000</td>\n",
       "      <td>255.000000</td>\n",
       "    </tr>\n",
       "  </tbody>\n",
       "</table>\n",
       "</div>"
      ],
      "text/plain": [
       "              DrugId      EaseofUse  Effectiveness   Satisfaction  \\\n",
       "count  362806.000000  362806.000000  362806.000000  362806.000000   \n",
       "mean    36879.370774       4.019829       3.532061       3.135408   \n",
       "std     52624.412971       1.317711       1.455961       1.611106   \n",
       "min         1.000000       1.000000       1.000000       1.000000   \n",
       "25%      4896.000000       3.000000       3.000000       1.000000   \n",
       "50%      9548.000000       5.000000       4.000000       3.000000   \n",
       "75%     63522.000000       5.000000       5.000000       5.000000   \n",
       "max    178546.000000      10.000000      10.000000      10.000000   \n",
       "\n",
       "         UsefulCount  \n",
       "count  362806.000000  \n",
       "mean        6.744916  \n",
       "std         9.324240  \n",
       "min         0.000000  \n",
       "25%         1.000000  \n",
       "50%         4.000000  \n",
       "75%         9.000000  \n",
       "max       255.000000  "
      ]
     },
     "execution_count": 25,
     "metadata": {},
     "output_type": "execute_result"
    }
   ],
   "source": [
    "data.describe()"
   ]
  },
  {
   "cell_type": "code",
   "execution_count": 84,
   "id": "0f8a92e6",
   "metadata": {},
   "outputs": [
    {
     "data": {
      "text/plain": [
       "Name              0\n",
       "Race              0\n",
       "Age               0\n",
       "Condition         0\n",
       "Date              0\n",
       "Drug              0\n",
       "DrugId            0\n",
       "EaseofUse         0\n",
       "Effectiveness     0\n",
       "Reviews          37\n",
       "Satisfaction      0\n",
       "Sex               0\n",
       "Sides             0\n",
       "UsefulCount       0\n",
       "dtype: int64"
      ]
     },
     "execution_count": 84,
     "metadata": {},
     "output_type": "execute_result"
    }
   ],
   "source": [
    "#Checking for null values\n",
    "data.isna().sum()"
   ]
  },
  {
   "cell_type": "code",
   "execution_count": 85,
   "id": "8fea5244",
   "metadata": {},
   "outputs": [
    {
     "name": "stdout",
     "output_type": "stream",
     "text": [
      "Name : 180804 \n",
      "\n",
      "Race : 4 \n",
      "\n",
      "Age : 12 \n",
      "\n",
      "Condition : 1806 \n",
      "\n",
      "Date : 4524 \n",
      "\n",
      "Drug : 7093 \n",
      "\n",
      "DrugId : 6572 \n",
      "\n",
      "EaseofUse : 7 \n",
      "\n",
      "Effectiveness : 7 \n",
      "\n",
      "Reviews : 250167 \n",
      "\n",
      "Satisfaction : 7 \n",
      "\n",
      "Sex : 3 \n",
      "\n",
      "Sides : 1651 \n",
      "\n",
      "UsefulCount : 148 \n",
      "\n"
     ]
    }
   ],
   "source": [
    "# Unique value count\n",
    "for i in data.columns:\n",
    "    print(i,':',data[i].nunique(),'\\n')"
   ]
  },
  {
   "cell_type": "code",
   "execution_count": 86,
   "id": "0dc5f900",
   "metadata": {},
   "outputs": [
    {
     "name": "stdout",
     "output_type": "stream",
     "text": [
      "----------------\n",
      "                   Name\n",
      "Michael Smith       160\n",
      "Michael Johnson     148\n",
      "David Smith         112\n",
      "Robert Smith        112\n",
      "Christopher Smith   110\n",
      "...                 ...\n",
      "Katelyn Mcdonald      1\n",
      "Sonya Elliott         1\n",
      "Leslie Snow           1\n",
      "Douglas George        1\n",
      "Marie Mason           1\n",
      "\n",
      "[180804 rows x 1 columns] \n",
      "\n",
      "----------------\n",
      "            Race\n",
      "White     115565\n",
      "Hispanic  101963\n",
      "Black      79927\n",
      "Asian      65351 \n",
      "\n",
      "----------------\n",
      "              Age\n",
      "45-54       80043\n",
      "55-64       75136\n",
      "35-44       55011\n",
      "25-34       49718\n",
      "65-74       41216\n",
      "19-24       24230\n",
      "75 or over  15226\n",
      "            12202\n",
      "13-18        7045\n",
      "7-12         1644\n",
      "3-6           838\n",
      "0-2           497 \n",
      "\n",
      "----------------\n",
      "                                                    Condition\n",
      "Other                                                   49765\n",
      "Pain                                                    25232\n",
      "High Blood Pressure                                     23275\n",
      "Depression                                              14509\n",
      "Birth Control                                           12253\n",
      "...                                                       ...\n",
      "Diagnostic Test for Myasthenia Gravis                       1\n",
      "Myelodysplastic Syndrome with 5q Deletion Gene ...          1\n",
      "Hunter Syndrome                                             1\n",
      "Increased Uric Acid due to Cancer Chemotherapy              1\n",
      "Adverse Effect of Benzodiazepine-Based Tranquil...          1\n",
      "\n",
      "[1806 rows x 1 columns] \n",
      "\n",
      "----------------\n",
      "            Date\n",
      "10/29/2007   404\n",
      "10/30/2007   316\n",
      "10/28/2007   315\n",
      "3/15/2010    308\n",
      "3/16/2010    295\n",
      "...          ...\n",
      "10/19/2019     2\n",
      "10/27/2019     1\n",
      "10/20/2019     1\n",
      "6/28/2019      1\n",
      "6/22/2019      1\n",
      "\n",
      "[4524 rows x 1 columns] \n",
      "\n",
      "----------------\n",
      "                                     Drug\n",
      "cymbalta                             4648\n",
      "lisinopril                           4269\n",
      "lisinopril solution                  4269\n",
      "lexapro                              4134\n",
      "hydrocodone-acetaminophen            3944\n",
      "...                                   ...\n",
      "sorbsan bandage                         1\n",
      "sorbsan topical wound dressing 3\" x     1\n",
      "q-pap extra strength                    1\n",
      "symax                                   1\n",
      "vanadium granules                       1\n",
      "\n",
      "[7093 rows x 1 columns] \n",
      "\n",
      "----------------\n",
      "        DrugId\n",
      "6873      8538\n",
      "1025      7868\n",
      "6007      7728\n",
      "4398      5864\n",
      "14208     5451\n",
      "...        ...\n",
      "4118         1\n",
      "165948       1\n",
      "54215        1\n",
      "154021       1\n",
      "149247       1\n",
      "\n",
      "[6572 rows x 1 columns] \n",
      "\n",
      "----------------\n",
      "    EaseofUse\n",
      "5      192650\n",
      "4       74732\n",
      "3       41303\n",
      "1       35927\n",
      "2       18191\n",
      "6           2\n",
      "10          1 \n",
      "\n",
      "----------------\n",
      "    Effectiveness\n",
      "5          130388\n",
      "4           81821\n",
      "3           60406\n",
      "1           59387\n",
      "2           30801\n",
      "6               2\n",
      "10              1 \n",
      "\n",
      "----------------\n",
      "                                                    Reviews\n",
      "                                                      41824\n",
      "good                                                    183\n",
      "this treatment is awsome.  I love drugs.                172\n",
      "This drug is awesome.  I love drugs.                    128\n",
      "No Script or health Insurance needed to place a...       90\n",
      "...                                                     ...\n",
      "OMG!! Is this shot painful or what!! Received S...        1\n",
      "Just take it now for 3 weeks\\nFeel a little bet...        1\n",
      "This has been a miracle drug for.  Yes I gained...        1\n",
      "worked quickly, got out of bed and had energy f...        1\n",
      "One year ago, I tried Chantix and had to stop t...        1\n",
      "\n",
      "[250167 rows x 1 columns] \n",
      "\n",
      "----------------\n",
      "    Satisfaction\n",
      "5         111550\n",
      "1         100901\n",
      "4          63158\n",
      "3          51852\n",
      "2          35342\n",
      "6              2\n",
      "10             1 \n",
      "\n",
      "----------------\n",
      "           Sex\n",
      "Female  238226\n",
      "Male     98043\n",
      "         26537 \n",
      "\n",
      "----------------\n",
      "                                                    Sides\n",
      "                                                    17460\n",
      "Nausea ,  vomiting ,  constipation ,  lighthead...  15563\n",
      "Nausea ,  vomiting ,  headache ,  bloating ,  b...  12116\n",
      "Dizziness ,  lightheadedness , tiredness, or  h...   9162\n",
      "Drowsiness,  dizziness , loss of coordination, ...   7790\n",
      "...                                                   ...\n",
      "Nausea ,  vomiting ,  stomach / abdominal pain ...      1\n",
      "Headache ,  nausea , chills, or fever may occur.        1\n",
      "Nausea ,  vomiting ,  diarrhea , abdominal/ sto...      1\n",
      "Mild  skin  burning, redness, and peeling of th...      1\n",
      "Diarrhea ,  nausea , or  heartburn  may occur.          1\n",
      "\n",
      "[1651 rows x 1 columns] \n",
      "\n",
      "----------------\n",
      "     UsefulCount\n",
      "0          71608\n",
      "1          46240\n",
      "2          34701\n",
      "3          27307\n",
      "4          22862\n",
      "..           ...\n",
      "136            1\n",
      "178            1\n",
      "176            1\n",
      "169            1\n",
      "95             1\n",
      "\n",
      "[148 rows x 1 columns] \n",
      "\n"
     ]
    }
   ],
   "source": [
    "# Value counts for each feature\n",
    "for i in data.columns:\n",
    "  print(\"----------------\")\n",
    "  print((data[i].value_counts()).to_frame(),'\\n')"
   ]
  },
  {
   "cell_type": "code",
   "execution_count": 87,
   "id": "63b96bc8",
   "metadata": {},
   "outputs": [
    {
     "data": {
      "text/plain": [
       "cymbalta                                               4648\n",
       "lisinopril                                             4269\n",
       "lisinopril solution                                    4269\n",
       "lexapro                                                4134\n",
       "hydrocodone-acetaminophen                              3944\n",
       "effexor xr                                             3486\n",
       "lyrica                                                 3069\n",
       "tramadol hcl er                                        2932\n",
       "tramadol hcl                                           2932\n",
       "zoloft                                                 2662\n",
       "prednisone tablet, delayed release (enteric coated)    2576\n",
       "prednisone concentrate                                 2576\n",
       "prednisone                                             2576\n",
       "seroquel                                               2446\n",
       "phentermine hcl                                        2367\n",
       "celexa                                                 2224\n",
       "topamax                                                2148\n",
       "topamax capsule, sprinkle                              2148\n",
       "trazodone hcl                                          2099\n",
       "neurontin capsule                                      2078\n",
       "Name: Drug, dtype: int64"
      ]
     },
     "execution_count": 87,
     "metadata": {},
     "output_type": "execute_result"
    }
   ],
   "source": [
    "data['Drug'].value_counts().head(20)"
   ]
  },
  {
   "cell_type": "markdown",
   "id": "734ad8a1",
   "metadata": {},
   "source": [
    "# Selection of drug: A particular drug named Lexapro with DrugId 63990 is selected in building a classification model to determine side effects"
   ]
  },
  {
   "cell_type": "code",
   "execution_count": 88,
   "id": "1a21fe7a",
   "metadata": {},
   "outputs": [
    {
     "data": {
      "text/html": [
       "<div>\n",
       "<style scoped>\n",
       "    .dataframe tbody tr th:only-of-type {\n",
       "        vertical-align: middle;\n",
       "    }\n",
       "\n",
       "    .dataframe tbody tr th {\n",
       "        vertical-align: top;\n",
       "    }\n",
       "\n",
       "    .dataframe thead th {\n",
       "        text-align: right;\n",
       "    }\n",
       "</style>\n",
       "<table border=\"1\" class=\"dataframe\">\n",
       "  <thead>\n",
       "    <tr style=\"text-align: right;\">\n",
       "      <th></th>\n",
       "      <th>Name</th>\n",
       "      <th>Race</th>\n",
       "      <th>Age</th>\n",
       "      <th>Condition</th>\n",
       "      <th>Date</th>\n",
       "      <th>Drug</th>\n",
       "      <th>DrugId</th>\n",
       "      <th>EaseofUse</th>\n",
       "      <th>Effectiveness</th>\n",
       "      <th>Reviews</th>\n",
       "      <th>Satisfaction</th>\n",
       "      <th>Sex</th>\n",
       "      <th>Sides</th>\n",
       "      <th>UsefulCount</th>\n",
       "    </tr>\n",
       "  </thead>\n",
       "  <tbody>\n",
       "    <tr>\n",
       "      <th>28803</th>\n",
       "      <td>Michele Harris</td>\n",
       "      <td>Black</td>\n",
       "      <td>35-44</td>\n",
       "      <td>Anxiousness associated with Depression</td>\n",
       "      <td>2/6/2020</td>\n",
       "      <td>lexapro</td>\n",
       "      <td>63990</td>\n",
       "      <td>1</td>\n",
       "      <td>1</td>\n",
       "      <td>I got horrible brain zaps and very graphic tra...</td>\n",
       "      <td>1</td>\n",
       "      <td>Female</td>\n",
       "      <td>Nausea ,  dry mouth ,  trouble sleeping ,  con...</td>\n",
       "      <td>0</td>\n",
       "    </tr>\n",
       "    <tr>\n",
       "      <th>28809</th>\n",
       "      <td>Charles Nicholson</td>\n",
       "      <td>Hispanic</td>\n",
       "      <td></td>\n",
       "      <td>\"Change of Life\" Signs</td>\n",
       "      <td>1/23/2020</td>\n",
       "      <td>lexapro</td>\n",
       "      <td>63990</td>\n",
       "      <td>3</td>\n",
       "      <td>2</td>\n",
       "      <td>Blah</td>\n",
       "      <td>1</td>\n",
       "      <td>Female</td>\n",
       "      <td>Nausea ,  dry mouth ,  trouble sleeping ,  con...</td>\n",
       "      <td>0</td>\n",
       "    </tr>\n",
       "    <tr>\n",
       "      <th>28817</th>\n",
       "      <td>Michael Gallagher</td>\n",
       "      <td>Black</td>\n",
       "      <td>55-64</td>\n",
       "      <td>Depression</td>\n",
       "      <td>1/23/2020</td>\n",
       "      <td>lexapro</td>\n",
       "      <td>63990</td>\n",
       "      <td>5</td>\n",
       "      <td>3</td>\n",
       "      <td>It has helped my depression but not my anxiety...</td>\n",
       "      <td>3</td>\n",
       "      <td>Male</td>\n",
       "      <td>Nausea ,  dry mouth ,  trouble sleeping ,  con...</td>\n",
       "      <td>0</td>\n",
       "    </tr>\n",
       "    <tr>\n",
       "      <th>28826</th>\n",
       "      <td>Scott Mckee</td>\n",
       "      <td>Hispanic</td>\n",
       "      <td>65-74</td>\n",
       "      <td>Depression</td>\n",
       "      <td>1/21/2020</td>\n",
       "      <td>lexapro</td>\n",
       "      <td>63990</td>\n",
       "      <td>3</td>\n",
       "      <td>1</td>\n",
       "      <td>Was nauseated almost immediately. Diareaha and...</td>\n",
       "      <td>1</td>\n",
       "      <td>Female</td>\n",
       "      <td>Nausea ,  dry mouth ,  trouble sleeping ,  con...</td>\n",
       "      <td>0</td>\n",
       "    </tr>\n",
       "    <tr>\n",
       "      <th>28834</th>\n",
       "      <td>Chelsea Payne</td>\n",
       "      <td>Hispanic</td>\n",
       "      <td>75 or over</td>\n",
       "      <td>Anxiousness associated with Depression</td>\n",
       "      <td>12/27/2019</td>\n",
       "      <td>lexapro</td>\n",
       "      <td>63990</td>\n",
       "      <td>4</td>\n",
       "      <td>2</td>\n",
       "      <td>haven't seen much difference.</td>\n",
       "      <td>2</td>\n",
       "      <td>Female</td>\n",
       "      <td>Nausea ,  dry mouth ,  trouble sleeping ,  con...</td>\n",
       "      <td>0</td>\n",
       "    </tr>\n",
       "  </tbody>\n",
       "</table>\n",
       "</div>"
      ],
      "text/plain": [
       "                    Name      Race         Age  \\\n",
       "28803     Michele Harris     Black       35-44   \n",
       "28809  Charles Nicholson  Hispanic               \n",
       "28817  Michael Gallagher     Black       55-64   \n",
       "28826        Scott Mckee  Hispanic       65-74   \n",
       "28834      Chelsea Payne  Hispanic  75 or over   \n",
       "\n",
       "                                    Condition        Date     Drug  DrugId  \\\n",
       "28803  Anxiousness associated with Depression    2/6/2020  lexapro   63990   \n",
       "28809                  \"Change of Life\" Signs   1/23/2020  lexapro   63990   \n",
       "28817                              Depression   1/23/2020  lexapro   63990   \n",
       "28826                              Depression   1/21/2020  lexapro   63990   \n",
       "28834  Anxiousness associated with Depression  12/27/2019  lexapro   63990   \n",
       "\n",
       "       EaseofUse  Effectiveness  \\\n",
       "28803          1              1   \n",
       "28809          3              2   \n",
       "28817          5              3   \n",
       "28826          3              1   \n",
       "28834          4              2   \n",
       "\n",
       "                                                 Reviews  Satisfaction  \\\n",
       "28803  I got horrible brain zaps and very graphic tra...             1   \n",
       "28809                                               Blah             1   \n",
       "28817  It has helped my depression but not my anxiety...             3   \n",
       "28826  Was nauseated almost immediately. Diareaha and...             1   \n",
       "28834                      haven't seen much difference.             2   \n",
       "\n",
       "          Sex                                              Sides  UsefulCount  \n",
       "28803  Female  Nausea ,  dry mouth ,  trouble sleeping ,  con...            0  \n",
       "28809  Female  Nausea ,  dry mouth ,  trouble sleeping ,  con...            0  \n",
       "28817    Male  Nausea ,  dry mouth ,  trouble sleeping ,  con...            0  \n",
       "28826  Female  Nausea ,  dry mouth ,  trouble sleeping ,  con...            0  \n",
       "28834  Female  Nausea ,  dry mouth ,  trouble sleeping ,  con...            0  "
      ]
     },
     "execution_count": 88,
     "metadata": {},
     "output_type": "execute_result"
    }
   ],
   "source": [
    "drug_lexapro= data.loc[(data['Drug'] =='lexapro')]\n",
    "drug_lexapro.head(5)"
   ]
  },
  {
   "cell_type": "code",
   "execution_count": 89,
   "id": "342f0570",
   "metadata": {},
   "outputs": [
    {
     "data": {
      "text/plain": [
       "(4134, 14)"
      ]
     },
     "execution_count": 89,
     "metadata": {},
     "output_type": "execute_result"
    }
   ],
   "source": [
    "drug_lexapro.shape"
   ]
  },
  {
   "cell_type": "code",
   "execution_count": 90,
   "id": "17e9ea4d",
   "metadata": {},
   "outputs": [
    {
     "data": {
      "text/plain": [
       "Depression                                1920\n",
       "Repeated Episodes of Anxiety               921\n",
       "Panic Disorder                             311\n",
       "Other                                      244\n",
       "Major Depressive Disorder                  194\n",
       "Bipolar Depression                         192\n",
       "\"Change of Life\" Signs                     146\n",
       "Posttraumatic Stress Syndrome               89\n",
       "Obsessive Compulsive Disorder               69\n",
       "Anxiousness associated with Depression      47\n",
       "                                             1\n",
       "Name: Condition, dtype: int64"
      ]
     },
     "execution_count": 90,
     "metadata": {},
     "output_type": "execute_result"
    }
   ],
   "source": [
    "drug_lexapro['Condition'].value_counts()"
   ]
  },
  {
   "cell_type": "code",
   "execution_count": 91,
   "id": "e39d95f8",
   "metadata": {},
   "outputs": [
    {
     "data": {
      "text/plain": [
       "4134"
      ]
     },
     "execution_count": 91,
     "metadata": {},
     "output_type": "execute_result"
    }
   ],
   "source": [
    "drug_lexapro['Condition'].value_counts().sum()"
   ]
  },
  {
   "cell_type": "code",
   "execution_count": 92,
   "id": "66dcfc84",
   "metadata": {
    "scrolled": true
   },
   "outputs": [
    {
     "data": {
      "text/plain": [
       "Text(0, 0.5, 'Count')"
      ]
     },
     "execution_count": 92,
     "metadata": {},
     "output_type": "execute_result"
    },
    {
     "data": {
      "image/png": "[encoded data removed]",
      "text/plain": [
       "<Figure size 576x576 with 1 Axes>"
      ]
     },
     "metadata": {
      "needs_background": "light"
     },
     "output_type": "display_data"
    }
   ],
   "source": [
    "drug_lexapro['Condition'].value_counts().nlargest(12).plot(kind='bar',figsize=(8,8))\n",
    "plt.suptitle(\"Lexapro Conditions\")\n",
    "plt.xlabel('Condition')\n",
    "plt.ylabel('Count')"
   ]
  },
  {
   "cell_type": "markdown",
   "id": "a3156728",
   "metadata": {},
   "source": [
    "Lexapro is mainly used for depression and anxiety related conditions"
   ]
  },
  {
   "cell_type": "code",
   "execution_count": 93,
   "id": "361aed43",
   "metadata": {},
   "outputs": [],
   "source": [
    "data_lex = drug_lexapro.copy()\n",
    "data_copy = data.copy()"
   ]
  },
  {
   "cell_type": "markdown",
   "id": "aa0fac54",
   "metadata": {},
   "source": [
    "# Data PreProcessing"
   ]
  },
  {
   "cell_type": "markdown",
   "id": "7014fcdf",
   "metadata": {},
   "source": [
    "# 1.Handling White Spaces"
   ]
  },
  {
   "cell_type": "code",
   "execution_count": 94,
   "id": "eaf2278f",
   "metadata": {},
   "outputs": [],
   "source": [
    "# Handling instances with whitespaces\n",
    "for i in data_lex:\n",
    "    data_lex[i]=np.where(data_lex[i]==\" \",np.NAN,data_lex[i])"
   ]
  },
  {
   "cell_type": "code",
   "execution_count": 95,
   "id": "87c1179d",
   "metadata": {},
   "outputs": [
    {
     "data": {
      "text/html": [
       "<div>\n",
       "<style scoped>\n",
       "    .dataframe tbody tr th:only-of-type {\n",
       "        vertical-align: middle;\n",
       "    }\n",
       "\n",
       "    .dataframe tbody tr th {\n",
       "        vertical-align: top;\n",
       "    }\n",
       "\n",
       "    .dataframe thead th {\n",
       "        text-align: right;\n",
       "    }\n",
       "</style>\n",
       "<table border=\"1\" class=\"dataframe\">\n",
       "  <thead>\n",
       "    <tr style=\"text-align: right;\">\n",
       "      <th></th>\n",
       "      <th>Name</th>\n",
       "      <th>Race</th>\n",
       "      <th>Age</th>\n",
       "      <th>Condition</th>\n",
       "      <th>Date</th>\n",
       "      <th>Drug</th>\n",
       "      <th>DrugId</th>\n",
       "      <th>EaseofUse</th>\n",
       "      <th>Effectiveness</th>\n",
       "      <th>Reviews</th>\n",
       "      <th>Satisfaction</th>\n",
       "      <th>Sex</th>\n",
       "      <th>Sides</th>\n",
       "      <th>UsefulCount</th>\n",
       "    </tr>\n",
       "  </thead>\n",
       "  <tbody>\n",
       "    <tr>\n",
       "      <th>28803</th>\n",
       "      <td>Michele Harris</td>\n",
       "      <td>Black</td>\n",
       "      <td>35-44</td>\n",
       "      <td>Anxiousness associated with Depression</td>\n",
       "      <td>2/6/2020</td>\n",
       "      <td>lexapro</td>\n",
       "      <td>63990.0</td>\n",
       "      <td>1.0</td>\n",
       "      <td>1.0</td>\n",
       "      <td>I got horrible brain zaps and very graphic tra...</td>\n",
       "      <td>1.0</td>\n",
       "      <td>Female</td>\n",
       "      <td>Nausea ,  dry mouth ,  trouble sleeping ,  con...</td>\n",
       "      <td>0.0</td>\n",
       "    </tr>\n",
       "    <tr>\n",
       "      <th>28809</th>\n",
       "      <td>Charles Nicholson</td>\n",
       "      <td>Hispanic</td>\n",
       "      <td>NaN</td>\n",
       "      <td>\"Change of Life\" Signs</td>\n",
       "      <td>1/23/2020</td>\n",
       "      <td>lexapro</td>\n",
       "      <td>63990.0</td>\n",
       "      <td>3.0</td>\n",
       "      <td>2.0</td>\n",
       "      <td>Blah</td>\n",
       "      <td>1.0</td>\n",
       "      <td>Female</td>\n",
       "      <td>Nausea ,  dry mouth ,  trouble sleeping ,  con...</td>\n",
       "      <td>0.0</td>\n",
       "    </tr>\n",
       "    <tr>\n",
       "      <th>28817</th>\n",
       "      <td>Michael Gallagher</td>\n",
       "      <td>Black</td>\n",
       "      <td>55-64</td>\n",
       "      <td>Depression</td>\n",
       "      <td>1/23/2020</td>\n",
       "      <td>lexapro</td>\n",
       "      <td>63990.0</td>\n",
       "      <td>5.0</td>\n",
       "      <td>3.0</td>\n",
       "      <td>It has helped my depression but not my anxiety...</td>\n",
       "      <td>3.0</td>\n",
       "      <td>Male</td>\n",
       "      <td>Nausea ,  dry mouth ,  trouble sleeping ,  con...</td>\n",
       "      <td>0.0</td>\n",
       "    </tr>\n",
       "    <tr>\n",
       "      <th>28826</th>\n",
       "      <td>Scott Mckee</td>\n",
       "      <td>Hispanic</td>\n",
       "      <td>65-74</td>\n",
       "      <td>Depression</td>\n",
       "      <td>1/21/2020</td>\n",
       "      <td>lexapro</td>\n",
       "      <td>63990.0</td>\n",
       "      <td>3.0</td>\n",
       "      <td>1.0</td>\n",
       "      <td>Was nauseated almost immediately. Diareaha and...</td>\n",
       "      <td>1.0</td>\n",
       "      <td>Female</td>\n",
       "      <td>Nausea ,  dry mouth ,  trouble sleeping ,  con...</td>\n",
       "      <td>0.0</td>\n",
       "    </tr>\n",
       "    <tr>\n",
       "      <th>28834</th>\n",
       "      <td>Chelsea Payne</td>\n",
       "      <td>Hispanic</td>\n",
       "      <td>75 or over</td>\n",
       "      <td>Anxiousness associated with Depression</td>\n",
       "      <td>12/27/2019</td>\n",
       "      <td>lexapro</td>\n",
       "      <td>63990.0</td>\n",
       "      <td>4.0</td>\n",
       "      <td>2.0</td>\n",
       "      <td>haven't seen much difference.</td>\n",
       "      <td>2.0</td>\n",
       "      <td>Female</td>\n",
       "      <td>Nausea ,  dry mouth ,  trouble sleeping ,  con...</td>\n",
       "      <td>0.0</td>\n",
       "    </tr>\n",
       "  </tbody>\n",
       "</table>\n",
       "</div>"
      ],
      "text/plain": [
       "                    Name      Race         Age  \\\n",
       "28803     Michele Harris     Black       35-44   \n",
       "28809  Charles Nicholson  Hispanic         NaN   \n",
       "28817  Michael Gallagher     Black       55-64   \n",
       "28826        Scott Mckee  Hispanic       65-74   \n",
       "28834      Chelsea Payne  Hispanic  75 or over   \n",
       "\n",
       "                                    Condition        Date     Drug   DrugId  \\\n",
       "28803  Anxiousness associated with Depression    2/6/2020  lexapro  63990.0   \n",
       "28809                  \"Change of Life\" Signs   1/23/2020  lexapro  63990.0   \n",
       "28817                              Depression   1/23/2020  lexapro  63990.0   \n",
       "28826                              Depression   1/21/2020  lexapro  63990.0   \n",
       "28834  Anxiousness associated with Depression  12/27/2019  lexapro  63990.0   \n",
       "\n",
       "       EaseofUse  Effectiveness  \\\n",
       "28803        1.0            1.0   \n",
       "28809        3.0            2.0   \n",
       "28817        5.0            3.0   \n",
       "28826        3.0            1.0   \n",
       "28834        4.0            2.0   \n",
       "\n",
       "                                                 Reviews  Satisfaction  \\\n",
       "28803  I got horrible brain zaps and very graphic tra...           1.0   \n",
       "28809                                               Blah           1.0   \n",
       "28817  It has helped my depression but not my anxiety...           3.0   \n",
       "28826  Was nauseated almost immediately. Diareaha and...           1.0   \n",
       "28834                      haven't seen much difference.           2.0   \n",
       "\n",
       "          Sex                                              Sides  UsefulCount  \n",
       "28803  Female  Nausea ,  dry mouth ,  trouble sleeping ,  con...          0.0  \n",
       "28809  Female  Nausea ,  dry mouth ,  trouble sleeping ,  con...          0.0  \n",
       "28817    Male  Nausea ,  dry mouth ,  trouble sleeping ,  con...          0.0  \n",
       "28826  Female  Nausea ,  dry mouth ,  trouble sleeping ,  con...          0.0  \n",
       "28834  Female  Nausea ,  dry mouth ,  trouble sleeping ,  con...          0.0  "
      ]
     },
     "execution_count": 95,
     "metadata": {},
     "output_type": "execute_result"
    }
   ],
   "source": [
    "data_lex.head()"
   ]
  },
  {
   "cell_type": "markdown",
   "id": "097890aa",
   "metadata": {},
   "source": [
    "\n",
    "# 2.Missing values"
   ]
  },
  {
   "cell_type": "code",
   "execution_count": 96,
   "id": "a5b212ae",
   "metadata": {},
   "outputs": [
    {
     "data": {
      "text/plain": [
       "Name               0\n",
       "Race               0\n",
       "Age              175\n",
       "Condition          1\n",
       "Date               0\n",
       "Drug               0\n",
       "DrugId             0\n",
       "EaseofUse          0\n",
       "Effectiveness      0\n",
       "Reviews          568\n",
       "Satisfaction       0\n",
       "Sex              222\n",
       "Sides              0\n",
       "UsefulCount        0\n",
       "dtype: int64"
      ]
     },
     "execution_count": 96,
     "metadata": {},
     "output_type": "execute_result"
    }
   ],
   "source": [
    "#checking missing values\n",
    "data_lex.isnull().sum()"
   ]
  },
  {
   "cell_type": "code",
   "execution_count": 97,
   "id": "7bc57022",
   "metadata": {},
   "outputs": [
    {
     "data": {
      "text/plain": [
       "(4134, 14)"
      ]
     },
     "execution_count": 97,
     "metadata": {},
     "output_type": "execute_result"
    }
   ],
   "source": [
    "data_lex.shape"
   ]
  },
  {
   "cell_type": "markdown",
   "id": "1a11f4bf",
   "metadata": {},
   "source": [
    "# Bar plot for missing values"
   ]
  },
  {
   "cell_type": "code",
   "execution_count": 98,
   "id": "acb89056",
   "metadata": {},
   "outputs": [
    {
     "data": {
      "text/plain": [
       "Text(0.5, 1.0, 'Total Missing Values')"
      ]
     },
     "execution_count": 98,
     "metadata": {},
     "output_type": "execute_result"
    },
    {
     "data": {
      "image/png": "[encoded data removed]",
      "text/plain": [
       "<Figure size 864x432 with 1 Axes>"
      ]
     },
     "metadata": {
      "needs_background": "light"
     },
     "output_type": "display_data"
    }
   ],
   "source": [
    "missing = (data_lex.isnull().sum()).sort_values(ascending=False)\n",
    "missing.plot(kind=\"bar\", figsize = (12,6), fontsize = 10, color='yellow')\n",
    "plt.xlabel(\"Columns\", fontsize = 20)\n",
    "plt.ylabel(\"\", fontsize = 20)\n",
    "plt.title(\"Total Missing Values\", fontsize = 20)"
   ]
  },
  {
   "cell_type": "code",
   "execution_count": 99,
   "id": "730e9781",
   "metadata": {},
   "outputs": [],
   "source": [
    "# Removing rows with null data\n",
    "data_lex=data_lex.dropna(axis=0)"
   ]
  },
  {
   "cell_type": "code",
   "execution_count": 100,
   "id": "a22848dc",
   "metadata": {},
   "outputs": [
    {
     "data": {
      "text/plain": [
       "Name             0\n",
       "Race             0\n",
       "Age              0\n",
       "Condition        0\n",
       "Date             0\n",
       "Drug             0\n",
       "DrugId           0\n",
       "EaseofUse        0\n",
       "Effectiveness    0\n",
       "Reviews          0\n",
       "Satisfaction     0\n",
       "Sex              0\n",
       "Sides            0\n",
       "UsefulCount      0\n",
       "dtype: int64"
      ]
     },
     "execution_count": 100,
     "metadata": {},
     "output_type": "execute_result"
    }
   ],
   "source": [
    "data_lex.isna().sum()"
   ]
  },
  {
   "cell_type": "code",
   "execution_count": 101,
   "id": "ed7af523",
   "metadata": {},
   "outputs": [
    {
     "data": {
      "text/plain": [
       "(3347, 14)"
      ]
     },
     "execution_count": 101,
     "metadata": {},
     "output_type": "execute_result"
    }
   ],
   "source": [
    "data_lex.shape"
   ]
  },
  {
   "cell_type": "markdown",
   "id": "9ffe2498",
   "metadata": {},
   "source": [
    "# 3.Text processing"
   ]
  },
  {
   "cell_type": "code",
   "execution_count": 102,
   "id": "5993d4dc",
   "metadata": {},
   "outputs": [],
   "source": [
    "# converting rows having data other than string datatype into  string.\n",
    "for i in range(0,len(data_lex)-1):\n",
    "    if type(data_lex.iloc[i]['Sides']) != str:\n",
    "        data_lex.iloc[i]['Sides'] = str(data_lex.iloc[i]['Sides'])\n",
    "\n",
    "for i in range(0,len(data_lex)-1):\n",
    "    if type(data_lex.iloc[i]['Reviews']) != str:\n",
    "        data_lex.iloc[i]['Reviews'] = str(data_lex.iloc[i]['Reviews'])\n",
    "        \n",
    "for i in range(0,len(data_lex)-1):\n",
    "    if type(data_lex.iloc[i]['Condition']) != str:\n",
    "        data_lex.iloc[i]['Condition'] = str(data_lex.iloc[i]['Condition'])"
   ]
  },
  {
   "cell_type": "code",
   "execution_count": 103,
   "id": "82f528da",
   "metadata": {},
   "outputs": [],
   "source": [
    "import re\n",
    "def cleaning_text(i):\n",
    "    i = re.sub(\"[^A-Za-z\" \"]+\",\" \",i).lower()\n",
    "    i = re.sub(\"[0-9\" \"]+\",\" \",i)\n",
    "    i= re.sub(\"[\\W+\"\"]\", \" \",i)        \n",
    "    w = []\n",
    "    for word in i.split(\" \"):\n",
    "        if len(word)>3:\n",
    "            w.append(word)\n",
    "    return (\" \".join(w))"
   ]
  },
  {
   "cell_type": "markdown",
   "id": "9ffba87f",
   "metadata": {},
   "source": [
    "# 3.1 Sides"
   ]
  },
  {
   "cell_type": "code",
   "execution_count": 104,
   "id": "3f8a911f",
   "metadata": {},
   "outputs": [
    {
     "data": {
      "text/plain": [
       "28803    nausea mouth trouble sleeping constipation tir...\n",
       "28817    nausea mouth trouble sleeping constipation tir...\n",
       "28826    nausea mouth trouble sleeping constipation tir...\n",
       "28834    nausea mouth trouble sleeping constipation tir...\n",
       "28845    nausea mouth trouble sleeping constipation tir...\n",
       "                               ...                        \n",
       "35315    nausea mouth trouble sleeping constipation tir...\n",
       "35316    nausea mouth trouble sleeping constipation tir...\n",
       "35317    nausea mouth trouble sleeping constipation tir...\n",
       "35318    nausea mouth trouble sleeping constipation tir...\n",
       "35319    nausea mouth trouble sleeping constipation tir...\n",
       "Name: Sides, Length: 3347, dtype: object"
      ]
     },
     "execution_count": 104,
     "metadata": {},
     "output_type": "execute_result"
    }
   ],
   "source": [
    "data_lex.Sides= data_lex.Sides.apply(cleaning_text)\n",
    "data_lex.Sides"
   ]
  },
  {
   "cell_type": "code",
   "execution_count": 105,
   "id": "1d18d95e",
   "metadata": {},
   "outputs": [
    {
     "name": "stderr",
     "output_type": "stream",
     "text": [
      "[nltk_data] Downloading package stopwords to\n",
      "[nltk_data]     C:\\Users\\hp\\AppData\\Roaming\\nltk_data...\n",
      "[nltk_data]   Package stopwords is already up-to-date!\n"
     ]
    }
   ],
   "source": [
    "import nltk\n",
    "nltk.download('stopwords')\n",
    "from nltk.corpus import stopwords\n",
    "\n",
    "stop_words = stopwords.words('english')\n",
    "data_lex['Sides'] = data_lex['Sides'].apply(lambda x: ' '.join([word for word in x.split() if word not in (stop_words)]))"
   ]
  },
  {
   "cell_type": "code",
   "execution_count": 106,
   "id": "d4432285",
   "metadata": {},
   "outputs": [
    {
     "data": {
      "text/plain": [
       "28803    nausea mouth trouble sleeping constipation tir...\n",
       "28817    nausea mouth trouble sleeping constipation tir...\n",
       "28826    nausea mouth trouble sleeping constipation tir...\n",
       "28834    nausea mouth trouble sleeping constipation tir...\n",
       "28845    nausea mouth trouble sleeping constipation tir...\n",
       "                               ...                        \n",
       "35315    nausea mouth trouble sleeping constipation tir...\n",
       "35316    nausea mouth trouble sleeping constipation tir...\n",
       "35317    nausea mouth trouble sleeping constipation tir...\n",
       "35318    nausea mouth trouble sleeping constipation tir...\n",
       "35319    nausea mouth trouble sleeping constipation tir...\n",
       "Name: Sides, Length: 3347, dtype: object"
      ]
     },
     "execution_count": 106,
     "metadata": {},
     "output_type": "execute_result"
    }
   ],
   "source": [
    "data_lex['Sides']"
   ]
  },
  {
   "cell_type": "markdown",
   "id": "ad5a4e66",
   "metadata": {},
   "source": [
    "# 3.2 Reviews"
   ]
  },
  {
   "cell_type": "code",
   "execution_count": 107,
   "id": "cba6cf37",
   "metadata": {},
   "outputs": [
    {
     "data": {
      "text/plain": [
       "28803    horrible brain zaps very graphic tragic dreams...\n",
       "28817    helped depression anxiety having trouble sleeping\n",
       "28826    nauseated almost immediately diareaha bedridde...\n",
       "28834                           haven seen much difference\n",
       "28845    started taking zoloft after diagnosed with dep...\n",
       "                               ...                        \n",
       "35315    have been taking lexapro about weeks medicine ...\n",
       "35316    took lexapro years never significant effects f...\n",
       "35317    while using this medication feel much better f...\n",
       "35318    this drug made feel like should have felt whol...\n",
       "35319    this medication turned easy going into impulsi...\n",
       "Name: Reviews, Length: 3347, dtype: object"
      ]
     },
     "execution_count": 107,
     "metadata": {},
     "output_type": "execute_result"
    }
   ],
   "source": [
    "data_lex.review= data_lex.Reviews.apply(cleaning_text)\n",
    "data_lex.review"
   ]
  },
  {
   "cell_type": "markdown",
   "id": "c262bccb",
   "metadata": {},
   "source": [
    "Removing Stopwords"
   ]
  },
  {
   "cell_type": "code",
   "execution_count": 108,
   "id": "ff70d4d3",
   "metadata": {},
   "outputs": [
    {
     "name": "stderr",
     "output_type": "stream",
     "text": [
      "[nltk_data] Downloading package stopwords to\n",
      "[nltk_data]     C:\\Users\\hp\\AppData\\Roaming\\nltk_data...\n",
      "[nltk_data]   Package stopwords is already up-to-date!\n"
     ]
    }
   ],
   "source": [
    "import nltk\n",
    "nltk.download('stopwords')\n",
    "from nltk.corpus import stopwords\n",
    "\n",
    "stop_words = stopwords.words('english')\n",
    "data_lex['Reviews'] = data_lex['Reviews'].apply(lambda x: ' '.join([word for word in x.split() if word not in (stop_words)]))"
   ]
  },
  {
   "cell_type": "code",
   "execution_count": 109,
   "id": "727427f7",
   "metadata": {},
   "outputs": [
    {
     "data": {
      "text/plain": [
       "28803    I got horrible brain zaps graphic tragic dream...\n",
       "28817    It helped depression anxiety. And I trouble sl...\n",
       "28826    Was nauseated almost immediately. Diareaha bed...\n",
       "28834                                seen much difference.\n",
       "28845    I started taking Zoloft I diagnosed depression...\n",
       "                               ...                        \n",
       "35315    I taking Lexapro 8 weeks. The medicine working...\n",
       "35316    I took Lexapro years ago never significant eff...\n",
       "35317    While I using medication I feel much better. I...\n",
       "35318    This drug made feel like I felt whole life. I ...\n",
       "35319    This medication turned easy going man impulsiv...\n",
       "Name: Reviews, Length: 3347, dtype: object"
      ]
     },
     "execution_count": 109,
     "metadata": {},
     "output_type": "execute_result"
    }
   ],
   "source": [
    "data_lex['Reviews']"
   ]
  },
  {
   "cell_type": "markdown",
   "id": "4d8662cc",
   "metadata": {},
   "source": [
    "# 3.3 Condition"
   ]
  },
  {
   "cell_type": "code",
   "execution_count": 110,
   "id": "a7183b18",
   "metadata": {},
   "outputs": [
    {
     "data": {
      "text/plain": [
       "28803    anxiousness associated with depression\n",
       "28817                                depression\n",
       "28826                                depression\n",
       "28834    anxiousness associated with depression\n",
       "28845                                depression\n",
       "                          ...                  \n",
       "35315                 repeated episodes anxiety\n",
       "35316                        bipolar depression\n",
       "35317                                     other\n",
       "35318                                depression\n",
       "35319                                     other\n",
       "Name: Condition, Length: 3347, dtype: object"
      ]
     },
     "execution_count": 110,
     "metadata": {},
     "output_type": "execute_result"
    }
   ],
   "source": [
    "data_lex.Condition=data_lex.Condition.apply(cleaning_text)\n",
    "data_lex.Condition"
   ]
  },
  {
   "cell_type": "markdown",
   "id": "694e6956",
   "metadata": {},
   "source": [
    "# 4 Gender"
   ]
  },
  {
   "cell_type": "code",
   "execution_count": 111,
   "id": "423c7144",
   "metadata": {},
   "outputs": [
    {
     "data": {
      "text/plain": [
       "Female    2661\n",
       "Male       686\n",
       "Name: Sex, dtype: int64"
      ]
     },
     "execution_count": 111,
     "metadata": {},
     "output_type": "execute_result"
    }
   ],
   "source": [
    "data_lex['Sex'].value_counts()"
   ]
  },
  {
   "cell_type": "markdown",
   "id": "57bbb037",
   "metadata": {},
   "source": [
    "# 5.Handling Age Group"
   ]
  },
  {
   "cell_type": "code",
   "execution_count": 112,
   "id": "a174f1b9",
   "metadata": {},
   "outputs": [
    {
     "data": {
      "text/plain": [
       "25-34         729\n",
       "45-54         722\n",
       "35-44         706\n",
       "55-64         497\n",
       "19-24         352\n",
       "65-74         155\n",
       "13-18         140\n",
       "75 or over     42\n",
       "7-12            3\n",
       "3-6             1\n",
       "Name: Age, dtype: int64"
      ]
     },
     "execution_count": 112,
     "metadata": {},
     "output_type": "execute_result"
    }
   ],
   "source": [
    "data_lex['Age'].value_counts()"
   ]
  },
  {
   "cell_type": "code",
   "execution_count": 55,
   "id": "ec4d22f5",
   "metadata": {},
   "outputs": [
    {
     "data": {
      "text/plain": [
       "array(['35-44', '55-64', '65-74', '75 or over', '45-54', '13-18', '25-34',\n",
       "       '19-24', '7-12', '3-6'], dtype=object)"
      ]
     },
     "execution_count": 55,
     "metadata": {},
     "output_type": "execute_result"
    }
   ],
   "source": [
    "data_lex['Age'].unique()"
   ]
  },
  {
   "cell_type": "code",
   "execution_count": 113,
   "id": "8a0778ff",
   "metadata": {},
   "outputs": [],
   "source": [
    "data_lex['Age']=data_lex['Age'].str.replace('75 or over','75-100')"
   ]
  },
  {
   "cell_type": "code",
   "execution_count": 114,
   "id": "dfd4140a",
   "metadata": {},
   "outputs": [
    {
     "data": {
      "text/plain": [
       "25-34     729\n",
       "45-54     722\n",
       "35-44     706\n",
       "55-64     497\n",
       "19-24     352\n",
       "65-74     155\n",
       "13-18     140\n",
       "75-100     42\n",
       "7-12        3\n",
       "3-6         1\n",
       "Name: Age, dtype: int64"
      ]
     },
     "execution_count": 114,
     "metadata": {},
     "output_type": "execute_result"
    }
   ],
   "source": [
    "data_lex['Age'].value_counts()"
   ]
  },
  {
   "cell_type": "markdown",
   "id": "87785ed5",
   "metadata": {},
   "source": [
    "# 6.Handling outliers"
   ]
  },
  {
   "cell_type": "code",
   "execution_count": 115,
   "id": "f6458ef9",
   "metadata": {},
   "outputs": [
    {
     "data": {
      "image/png": "[encoded data removed]",
      "text/plain": [
       "<Figure size 720x432 with 4 Axes>"
      ]
     },
     "metadata": {
      "needs_background": "light"
     },
     "output_type": "display_data"
    }
   ],
   "source": [
    "plt.figure(figsize=(10,6))\n",
    "\n",
    "plt.subplot(2,2,1)\n",
    "plt.boxplot(data_lex[\"EaseofUse\"])\n",
    "plt.title(\" Ease Of Use\")\n",
    "\n",
    "plt.subplot(2,2,2)\n",
    "plt.boxplot(data_lex[\"Effectiveness\"])\n",
    "plt.title(\" Effectiveness\")\n",
    "\n",
    "plt.subplot(2,2,3)\n",
    "plt.boxplot(data_lex[\"Satisfaction\"])\n",
    "plt.title(\" Satisfaction\")\n",
    "\n",
    "plt.subplot(2,2,4)\n",
    "plt.boxplot(data_lex[\"UsefulCount\"])\n",
    "plt.title(\" Useful Count\")\n",
    "plt.show()"
   ]
  },
  {
   "cell_type": "markdown",
   "id": "08d512d6",
   "metadata": {},
   "source": [
    "Outliers are present in Ease of use and Useful count"
   ]
  },
  {
   "cell_type": "markdown",
   "id": "4ca93616",
   "metadata": {},
   "source": [
    "# Removing Outliers"
   ]
  },
  {
   "cell_type": "code",
   "execution_count": 116,
   "id": "d384e8bd",
   "metadata": {},
   "outputs": [],
   "source": [
    "# define a function called 'outliers' which returns a list of outliers\n",
    "def outliers(df,ft):\n",
    "    Q1=df[ft].quantile(0.25)\n",
    "    Q3=df[ft].quantile(0.75)\n",
    "    IQR=Q3-Q1\n",
    "    lower=Q1-1.5*IQR\n",
    "    upper=Q3+1.5*IQR\n",
    "#create list to store indexes of outliers\n",
    "    ls= df.index[(df[ft]<lower) | (df[ft]>upper)]\n",
    "    return ls"
   ]
  },
  {
   "cell_type": "code",
   "execution_count": 117,
   "id": "57084260",
   "metadata": {},
   "outputs": [
    {
     "data": {
      "text/plain": [
       "[28963,\n",
       " 28991,\n",
       " 29179,\n",
       " 29271,\n",
       " 29321,\n",
       " 29348,\n",
       " 29360,\n",
       " 29366,\n",
       " 29405,\n",
       " 29447,\n",
       " 29558,\n",
       " 29672,\n",
       " 29882,\n",
       " 29927,\n",
       " 30104,\n",
       " 30245,\n",
       " 30332,\n",
       " 30431,\n",
       " 30536,\n",
       " 30548,\n",
       " 30596,\n",
       " 30737,\n",
       " 30791,\n",
       " 30806,\n",
       " 30809,\n",
       " 30824,\n",
       " 30845,\n",
       " 30854,\n",
       " 30881,\n",
       " 30887,\n",
       " 30917,\n",
       " 30938,\n",
       " 30944,\n",
       " 30965,\n",
       " 30971,\n",
       " 30992,\n",
       " 31019,\n",
       " 31031,\n",
       " 31043,\n",
       " 31055,\n",
       " 31067,\n",
       " 31076,\n",
       " 31133,\n",
       " 31136,\n",
       " 31196,\n",
       " 31220,\n",
       " 31232,\n",
       " 31259,\n",
       " 31262,\n",
       " 31376,\n",
       " 31589,\n",
       " 31601,\n",
       " 31727,\n",
       " 31949,\n",
       " 31991,\n",
       " 32096,\n",
       " 32180,\n",
       " 32306,\n",
       " 32314,\n",
       " 32345,\n",
       " 32347,\n",
       " 32350,\n",
       " 32353,\n",
       " 32354,\n",
       " 32360,\n",
       " 32361,\n",
       " 32367,\n",
       " 32369,\n",
       " 32495,\n",
       " 32501,\n",
       " 32502,\n",
       " 32653,\n",
       " 32716,\n",
       " 32724,\n",
       " 32764,\n",
       " 32771,\n",
       " 32772,\n",
       " 32774,\n",
       " 32776,\n",
       " 32777,\n",
       " 32808,\n",
       " 32821,\n",
       " 32827,\n",
       " 32840,\n",
       " 32844,\n",
       " 32869,\n",
       " 32907,\n",
       " 32910,\n",
       " 32916,\n",
       " 32918,\n",
       " 32930,\n",
       " 32949,\n",
       " 32967,\n",
       " 33016,\n",
       " 33049,\n",
       " 33063,\n",
       " 33064,\n",
       " 33066,\n",
       " 33069,\n",
       " 33071,\n",
       " 33074,\n",
       " 33075,\n",
       " 33148,\n",
       " 33151,\n",
       " 33184,\n",
       " 33212,\n",
       " 33240,\n",
       " 33272,\n",
       " 33279,\n",
       " 33286,\n",
       " 33300,\n",
       " 33305,\n",
       " 33314,\n",
       " 33320,\n",
       " 33351,\n",
       " 33354,\n",
       " 33355,\n",
       " 33356,\n",
       " 33359,\n",
       " 33364,\n",
       " 33385,\n",
       " 33451,\n",
       " 33469,\n",
       " 33502,\n",
       " 33551,\n",
       " 33639,\n",
       " 33641,\n",
       " 33672,\n",
       " 33678,\n",
       " 33730,\n",
       " 33740,\n",
       " 33778,\n",
       " 33799,\n",
       " 33807,\n",
       " 33825,\n",
       " 33831,\n",
       " 33952,\n",
       " 34021,\n",
       " 34028,\n",
       " 34060,\n",
       " 34140,\n",
       " 34183,\n",
       " 34226,\n",
       " 34245,\n",
       " 34337,\n",
       " 34345,\n",
       " 34351,\n",
       " 34403,\n",
       " 34435,\n",
       " 34488,\n",
       " 34507,\n",
       " 34549,\n",
       " 34554,\n",
       " 34564,\n",
       " 34604,\n",
       " 34610,\n",
       " 34632,\n",
       " 34645,\n",
       " 34675,\n",
       " 34685,\n",
       " 34686,\n",
       " 34701,\n",
       " 34726,\n",
       " 34732,\n",
       " 34735,\n",
       " 34808,\n",
       " 34840,\n",
       " 34869,\n",
       " 34870,\n",
       " 34886,\n",
       " 34945,\n",
       " 34961,\n",
       " 35002,\n",
       " 35010,\n",
       " 35017,\n",
       " 35022,\n",
       " 35031,\n",
       " 35032,\n",
       " 35034,\n",
       " 35036,\n",
       " 35037,\n",
       " 35039,\n",
       " 35040,\n",
       " 35041,\n",
       " 35042,\n",
       " 35043,\n",
       " 35047,\n",
       " 35050,\n",
       " 35052,\n",
       " 35053,\n",
       " 35058,\n",
       " 35070,\n",
       " 35077,\n",
       " 35089,\n",
       " 35166,\n",
       " 35216,\n",
       " 35252,\n",
       " 35259,\n",
       " 35286,\n",
       " 35318,\n",
       " 28803,\n",
       " 28949,\n",
       " 29019,\n",
       " 29152,\n",
       " 29213,\n",
       " 29354,\n",
       " 29402,\n",
       " 29456,\n",
       " 29558,\n",
       " 29564,\n",
       " 29600,\n",
       " 29714,\n",
       " 29726,\n",
       " 29822,\n",
       " 29873,\n",
       " 29891,\n",
       " 30011,\n",
       " 30023,\n",
       " 30074,\n",
       " 30086,\n",
       " 30131,\n",
       " 30218,\n",
       " 30284,\n",
       " 30308,\n",
       " 30317,\n",
       " 30341,\n",
       " 30356,\n",
       " 30386,\n",
       " 30410,\n",
       " 30440,\n",
       " 30476,\n",
       " 30578,\n",
       " 30617,\n",
       " 30653,\n",
       " 30686,\n",
       " 30692,\n",
       " 30746,\n",
       " 30776,\n",
       " 30980,\n",
       " 31001,\n",
       " 31118,\n",
       " 31166,\n",
       " 31187,\n",
       " 31247,\n",
       " 31331,\n",
       " 31343,\n",
       " 31382,\n",
       " 31424,\n",
       " 31487,\n",
       " 31505,\n",
       " 31556,\n",
       " 31730,\n",
       " 31808,\n",
       " 31856,\n",
       " 31880,\n",
       " 31961,\n",
       " 31970,\n",
       " 31997,\n",
       " 32051,\n",
       " 32135,\n",
       " 32210,\n",
       " 32219,\n",
       " 32258,\n",
       " 32275,\n",
       " 32288,\n",
       " 32298,\n",
       " 32305,\n",
       " 32307,\n",
       " 32308,\n",
       " 32336,\n",
       " 32367,\n",
       " 32378,\n",
       " 32383,\n",
       " 32401,\n",
       " 32422,\n",
       " 32427,\n",
       " 32440,\n",
       " 32459,\n",
       " 32480,\n",
       " 32498,\n",
       " 32500,\n",
       " 32506,\n",
       " 32538,\n",
       " 32540,\n",
       " 32542,\n",
       " 32551,\n",
       " 32552,\n",
       " 32553,\n",
       " 32570,\n",
       " 32601,\n",
       " 32613,\n",
       " 32645,\n",
       " 32651,\n",
       " 32717,\n",
       " 32775,\n",
       " 32776,\n",
       " 32780,\n",
       " 32789,\n",
       " 32799,\n",
       " 32808,\n",
       " 32841,\n",
       " 32851,\n",
       " 32858,\n",
       " 32900,\n",
       " 32922,\n",
       " 32925,\n",
       " 32928,\n",
       " 32931,\n",
       " 32935,\n",
       " 32956,\n",
       " 32957,\n",
       " 32973,\n",
       " 32990,\n",
       " 32996,\n",
       " 33008,\n",
       " 33012,\n",
       " 33015,\n",
       " 33044,\n",
       " 33056,\n",
       " 33079,\n",
       " 33103,\n",
       " 33126,\n",
       " 33135,\n",
       " 33150,\n",
       " 33160,\n",
       " 33185,\n",
       " 33187,\n",
       " 33197,\n",
       " 33208,\n",
       " 33209,\n",
       " 33213,\n",
       " 33219,\n",
       " 33220,\n",
       " 33221,\n",
       " 33225,\n",
       " 33245,\n",
       " 33272,\n",
       " 33299,\n",
       " 33309,\n",
       " 33314,\n",
       " 33349,\n",
       " 33358,\n",
       " 33362,\n",
       " 33363,\n",
       " 33382,\n",
       " 33442,\n",
       " 33465,\n",
       " 33467,\n",
       " 33476,\n",
       " 33515,\n",
       " 33520,\n",
       " 33542,\n",
       " 33549,\n",
       " 33551,\n",
       " 33580,\n",
       " 33601,\n",
       " 33654,\n",
       " 33656,\n",
       " 33662,\n",
       " 33709,\n",
       " 33727,\n",
       " 33735,\n",
       " 33812,\n",
       " 33831,\n",
       " 33845,\n",
       " 33854,\n",
       " 33877,\n",
       " 33881,\n",
       " 33903,\n",
       " 33911,\n",
       " 33945,\n",
       " 33982,\n",
       " 33983,\n",
       " 33989,\n",
       " 33993,\n",
       " 33996,\n",
       " 34005,\n",
       " 34015,\n",
       " 34025,\n",
       " 34041,\n",
       " 34045,\n",
       " 34047,\n",
       " 34049,\n",
       " 34062,\n",
       " 34087,\n",
       " 34096,\n",
       " 34111,\n",
       " 34160,\n",
       " 34164,\n",
       " 34190,\n",
       " 34192,\n",
       " 34193,\n",
       " 34223,\n",
       " 34230,\n",
       " 34258,\n",
       " 34262,\n",
       " 34288,\n",
       " 34300,\n",
       " 34306,\n",
       " 34311,\n",
       " 34317,\n",
       " 34354,\n",
       " 34370,\n",
       " 34390,\n",
       " 34438,\n",
       " 34450,\n",
       " 34464,\n",
       " 34498,\n",
       " 34527,\n",
       " 34532,\n",
       " 34540,\n",
       " 34541,\n",
       " 34565,\n",
       " 34574,\n",
       " 34578,\n",
       " 34597,\n",
       " 34612,\n",
       " 34617,\n",
       " 34624,\n",
       " 34628,\n",
       " 34630,\n",
       " 34634,\n",
       " 34670,\n",
       " 34673,\n",
       " 34686,\n",
       " 34729,\n",
       " 34733,\n",
       " 34747,\n",
       " 34749,\n",
       " 34775,\n",
       " 34804,\n",
       " 34841,\n",
       " 34857,\n",
       " 34910,\n",
       " 34946,\n",
       " 34985,\n",
       " 34989,\n",
       " 35029,\n",
       " 35080,\n",
       " 35095,\n",
       " 35101,\n",
       " 35119,\n",
       " 35121,\n",
       " 35131,\n",
       " 35155,\n",
       " 35174,\n",
       " 35178,\n",
       " 35180,\n",
       " 35184,\n",
       " 35188,\n",
       " 35204,\n",
       " 35206,\n",
       " 35261,\n",
       " 35278]"
      ]
     },
     "execution_count": 117,
     "metadata": {},
     "output_type": "execute_result"
    }
   ],
   "source": [
    "#create an empty list to store indexes from multiple columns\n",
    "index_list=[]\n",
    "for feature in ['UsefulCount', 'EaseofUse']:\n",
    "    index_list.extend(outliers(data_lex,feature))\n",
    "index_list"
   ]
  },
  {
   "cell_type": "code",
   "execution_count": 118,
   "id": "ed4da46b",
   "metadata": {},
   "outputs": [],
   "source": [
    "#define a function called 'remove' which returns a cleaned data without outliers\n",
    "def remove(df,ls):\n",
    "    ls=sorted(set(ls)) #to sort and remove multiple copies(to get unique)\n",
    "    df=df.drop(ls)\n",
    "    return df"
   ]
  },
  {
   "cell_type": "code",
   "execution_count": 119,
   "id": "e93e6b7a",
   "metadata": {},
   "outputs": [
    {
     "data": {
      "text/plain": [
       "(3347, 14)"
      ]
     },
     "execution_count": 119,
     "metadata": {},
     "output_type": "execute_result"
    }
   ],
   "source": [
    "data_lex.shape"
   ]
  },
  {
   "cell_type": "code",
   "execution_count": 120,
   "id": "a8341a7c",
   "metadata": {},
   "outputs": [],
   "source": [
    "data_lex=remove(data_lex,index_list)"
   ]
  },
  {
   "cell_type": "code",
   "execution_count": 121,
   "id": "1ee0649e",
   "metadata": {},
   "outputs": [
    {
     "data": {
      "text/plain": [
       "(2902, 14)"
      ]
     },
     "execution_count": 121,
     "metadata": {},
     "output_type": "execute_result"
    }
   ],
   "source": [
    "data_lex.shape"
   ]
  },
  {
   "cell_type": "markdown",
   "id": "fc1b989f",
   "metadata": {},
   "source": [
    "# After removing outliers"
   ]
  },
  {
   "cell_type": "code",
   "execution_count": 65,
   "id": "6a2fb01f",
   "metadata": {},
   "outputs": [
    {
     "data": {
      "text/plain": [
       "Text(0.5, 1.0, 'Box plot of Useful Count')"
      ]
     },
     "execution_count": 65,
     "metadata": {},
     "output_type": "execute_result"
    },
    {
     "data": {
      "image/png": "[encoded data removed]",
      "text/plain": [
       "<Figure size 432x288 with 1 Axes>"
      ]
     },
     "metadata": {
      "needs_background": "light"
     },
     "output_type": "display_data"
    }
   ],
   "source": [
    "plt.boxplot(data_lex[\"UsefulCount\"])\n",
    "plt.title('Box plot of Useful Count')"
   ]
  },
  {
   "cell_type": "code",
   "execution_count": 66,
   "id": "491f145e",
   "metadata": {},
   "outputs": [
    {
     "data": {
      "text/plain": [
       "Text(0.5, 1.0, 'Box plot of Ease Of Use')"
      ]
     },
     "execution_count": 66,
     "metadata": {},
     "output_type": "execute_result"
    },
    {
     "data": {
      "image/png": "[encoded data removed]",
      "text/plain": [
       "<Figure size 432x288 with 1 Axes>"
      ]
     },
     "metadata": {
      "needs_background": "light"
     },
     "output_type": "display_data"
    }
   ],
   "source": [
    "plt.boxplot(data_lex[\"EaseofUse\"])\n",
    "plt.title('Box plot of Ease Of Use')"
   ]
  },
  {
   "cell_type": "markdown",
   "id": "29509a87",
   "metadata": {},
   "source": [
    "# Satisfaction column"
   ]
  },
  {
   "cell_type": "code",
   "execution_count": 122,
   "id": "59a425e3",
   "metadata": {},
   "outputs": [
    {
     "data": {
      "text/plain": [
       "5.0    1082\n",
       "4.0     673\n",
       "3.0     483\n",
       "1.0     413\n",
       "2.0     251\n",
       "Name: Satisfaction, dtype: int64"
      ]
     },
     "execution_count": 122,
     "metadata": {},
     "output_type": "execute_result"
    }
   ],
   "source": [
    "data_lex['Satisfaction'].value_counts()"
   ]
  },
  {
   "cell_type": "markdown",
   "id": "f968492d",
   "metadata": {},
   "source": [
    "Satisfaction column does not contain value greater than 5"
   ]
  },
  {
   "cell_type": "markdown",
   "id": "b162a153",
   "metadata": {},
   "source": [
    "# 7.Feature Engineering"
   ]
  },
  {
   "cell_type": "code",
   "execution_count": 123,
   "id": "44736bcc",
   "metadata": {},
   "outputs": [],
   "source": [
    "data1=np.where(data_lex['Satisfaction'] == 1.0, \"Nil\", data_lex['Satisfaction'])\n",
    "data1=np.where(data_lex['Satisfaction'] == 2.0, \"Mild\",data1)\n",
    "data1=np.where(data_lex['Satisfaction'] == 3.0, \"Moderate\", data1)\n",
    "data1=np.where(data_lex['Satisfaction'] == 4.0, \"Severe\", data1)\n",
    "data1=np.where(data_lex['Satisfaction'] == 5.0, \"Extreme\",data1)"
   ]
  },
  {
   "cell_type": "code",
   "execution_count": 124,
   "id": "e3d2c872",
   "metadata": {},
   "outputs": [],
   "source": [
    "data_lex['SideEffects']=data1"
   ]
  },
  {
   "cell_type": "code",
   "execution_count": 125,
   "id": "5a2a0512",
   "metadata": {},
   "outputs": [],
   "source": [
    "data_lex.drop(['Satisfaction','DrugId'], inplace=True, axis=1)"
   ]
  },
  {
   "cell_type": "code",
   "execution_count": 126,
   "id": "939ff84a",
   "metadata": {},
   "outputs": [
    {
     "data": {
      "text/html": [
       "<div>\n",
       "<style scoped>\n",
       "    .dataframe tbody tr th:only-of-type {\n",
       "        vertical-align: middle;\n",
       "    }\n",
       "\n",
       "    .dataframe tbody tr th {\n",
       "        vertical-align: top;\n",
       "    }\n",
       "\n",
       "    .dataframe thead th {\n",
       "        text-align: right;\n",
       "    }\n",
       "</style>\n",
       "<table border=\"1\" class=\"dataframe\">\n",
       "  <thead>\n",
       "    <tr style=\"text-align: right;\">\n",
       "      <th></th>\n",
       "      <th>Name</th>\n",
       "      <th>Race</th>\n",
       "      <th>Age</th>\n",
       "      <th>Condition</th>\n",
       "      <th>Date</th>\n",
       "      <th>Drug</th>\n",
       "      <th>EaseofUse</th>\n",
       "      <th>Effectiveness</th>\n",
       "      <th>Reviews</th>\n",
       "      <th>Sex</th>\n",
       "      <th>Sides</th>\n",
       "      <th>UsefulCount</th>\n",
       "      <th>SideEffects</th>\n",
       "    </tr>\n",
       "  </thead>\n",
       "  <tbody>\n",
       "    <tr>\n",
       "      <th>28817</th>\n",
       "      <td>Michael Gallagher</td>\n",
       "      <td>Black</td>\n",
       "      <td>55-64</td>\n",
       "      <td>depression</td>\n",
       "      <td>1/23/2020</td>\n",
       "      <td>lexapro</td>\n",
       "      <td>5.0</td>\n",
       "      <td>3.0</td>\n",
       "      <td>It helped depression anxiety. And I trouble sl...</td>\n",
       "      <td>Male</td>\n",
       "      <td>nausea mouth trouble sleeping constipation tir...</td>\n",
       "      <td>0.0</td>\n",
       "      <td>Moderate</td>\n",
       "    </tr>\n",
       "    <tr>\n",
       "      <th>28826</th>\n",
       "      <td>Scott Mckee</td>\n",
       "      <td>Hispanic</td>\n",
       "      <td>65-74</td>\n",
       "      <td>depression</td>\n",
       "      <td>1/21/2020</td>\n",
       "      <td>lexapro</td>\n",
       "      <td>3.0</td>\n",
       "      <td>1.0</td>\n",
       "      <td>Was nauseated almost immediately. Diareaha bed...</td>\n",
       "      <td>Female</td>\n",
       "      <td>nausea mouth trouble sleeping constipation tir...</td>\n",
       "      <td>0.0</td>\n",
       "      <td>Nil</td>\n",
       "    </tr>\n",
       "    <tr>\n",
       "      <th>28834</th>\n",
       "      <td>Chelsea Payne</td>\n",
       "      <td>Hispanic</td>\n",
       "      <td>75-100</td>\n",
       "      <td>anxiousness associated with depression</td>\n",
       "      <td>12/27/2019</td>\n",
       "      <td>lexapro</td>\n",
       "      <td>4.0</td>\n",
       "      <td>2.0</td>\n",
       "      <td>seen much difference.</td>\n",
       "      <td>Female</td>\n",
       "      <td>nausea mouth trouble sleeping constipation tir...</td>\n",
       "      <td>0.0</td>\n",
       "      <td>Mild</td>\n",
       "    </tr>\n",
       "    <tr>\n",
       "      <th>28845</th>\n",
       "      <td>Randy Cooper</td>\n",
       "      <td>White</td>\n",
       "      <td>35-44</td>\n",
       "      <td>depression</td>\n",
       "      <td>12/20/2019</td>\n",
       "      <td>lexapro</td>\n",
       "      <td>5.0</td>\n",
       "      <td>5.0</td>\n",
       "      <td>I started taking Zoloft I diagnosed depression...</td>\n",
       "      <td>Male</td>\n",
       "      <td>nausea mouth trouble sleeping constipation tir...</td>\n",
       "      <td>2.0</td>\n",
       "      <td>Severe</td>\n",
       "    </tr>\n",
       "    <tr>\n",
       "      <th>28854</th>\n",
       "      <td>Mark Lowe</td>\n",
       "      <td>White</td>\n",
       "      <td>45-54</td>\n",
       "      <td>repeated episodes anxiety</td>\n",
       "      <td>12/9/2019</td>\n",
       "      <td>lexapro</td>\n",
       "      <td>5.0</td>\n",
       "      <td>5.0</td>\n",
       "      <td>Changed life. I’ve tried several ssri’s 10 yrs...</td>\n",
       "      <td>Female</td>\n",
       "      <td>nausea mouth trouble sleeping constipation tir...</td>\n",
       "      <td>0.0</td>\n",
       "      <td>Extreme</td>\n",
       "    </tr>\n",
       "  </tbody>\n",
       "</table>\n",
       "</div>"
      ],
      "text/plain": [
       "                    Name      Race     Age  \\\n",
       "28817  Michael Gallagher     Black   55-64   \n",
       "28826        Scott Mckee  Hispanic   65-74   \n",
       "28834      Chelsea Payne  Hispanic  75-100   \n",
       "28845       Randy Cooper     White   35-44   \n",
       "28854          Mark Lowe     White   45-54   \n",
       "\n",
       "                                    Condition        Date     Drug  EaseofUse  \\\n",
       "28817                              depression   1/23/2020  lexapro        5.0   \n",
       "28826                              depression   1/21/2020  lexapro        3.0   \n",
       "28834  anxiousness associated with depression  12/27/2019  lexapro        4.0   \n",
       "28845                              depression  12/20/2019  lexapro        5.0   \n",
       "28854               repeated episodes anxiety   12/9/2019  lexapro        5.0   \n",
       "\n",
       "       Effectiveness                                            Reviews  \\\n",
       "28817            3.0  It helped depression anxiety. And I trouble sl...   \n",
       "28826            1.0  Was nauseated almost immediately. Diareaha bed...   \n",
       "28834            2.0                              seen much difference.   \n",
       "28845            5.0  I started taking Zoloft I diagnosed depression...   \n",
       "28854            5.0  Changed life. I’ve tried several ssri’s 10 yrs...   \n",
       "\n",
       "          Sex                                              Sides  UsefulCount  \\\n",
       "28817    Male  nausea mouth trouble sleeping constipation tir...          0.0   \n",
       "28826  Female  nausea mouth trouble sleeping constipation tir...          0.0   \n",
       "28834  Female  nausea mouth trouble sleeping constipation tir...          0.0   \n",
       "28845    Male  nausea mouth trouble sleeping constipation tir...          2.0   \n",
       "28854  Female  nausea mouth trouble sleeping constipation tir...          0.0   \n",
       "\n",
       "      SideEffects  \n",
       "28817    Moderate  \n",
       "28826         Nil  \n",
       "28834        Mild  \n",
       "28845      Severe  \n",
       "28854     Extreme  "
      ]
     },
     "execution_count": 126,
     "metadata": {},
     "output_type": "execute_result"
    }
   ],
   "source": [
    "data_lex.head(5)"
   ]
  },
  {
   "cell_type": "markdown",
   "id": "9b799d8e",
   "metadata": {},
   "source": [
    "# 8.Feature Reduction"
   ]
  },
  {
   "cell_type": "markdown",
   "id": "f21c0765",
   "metadata": {},
   "source": [
    "# Correlation Analysis"
   ]
  },
  {
   "cell_type": "code",
   "execution_count": 127,
   "id": "ca97d996",
   "metadata": {},
   "outputs": [
    {
     "data": {
      "text/plain": [
       "<AxesSubplot:>"
      ]
     },
     "execution_count": 127,
     "metadata": {},
     "output_type": "execute_result"
    },
    {
     "data": {
      "image/png": "[encoded data removed]",
      "text/plain": [
       "<Figure size 720x576 with 2 Axes>"
      ]
     },
     "metadata": {
      "needs_background": "light"
     },
     "output_type": "display_data"
    }
   ],
   "source": [
    "corrmatrix = data_lex.corr()\n",
    "plt.figure(figsize=(10,8))\n",
    "sns.heatmap(corrmatrix,vmin=-0.4 , vmax=0.9, annot=True, cmap='YlGnBu' , linewidth=0.2)"
   ]
  },
  {
   "cell_type": "markdown",
   "id": "f352445c",
   "metadata": {},
   "source": [
    "# The columns such as Date, Name, Reviews and UsefulCount are also dropped since these doesn't deal with side effects of the drug."
   ]
  },
  {
   "cell_type": "code",
   "execution_count": 128,
   "id": "e1638149",
   "metadata": {},
   "outputs": [
    {
     "data": {
      "text/html": [
       "<div>\n",
       "<style scoped>\n",
       "    .dataframe tbody tr th:only-of-type {\n",
       "        vertical-align: middle;\n",
       "    }\n",
       "\n",
       "    .dataframe tbody tr th {\n",
       "        vertical-align: top;\n",
       "    }\n",
       "\n",
       "    .dataframe thead th {\n",
       "        text-align: right;\n",
       "    }\n",
       "</style>\n",
       "<table border=\"1\" class=\"dataframe\">\n",
       "  <thead>\n",
       "    <tr style=\"text-align: right;\">\n",
       "      <th></th>\n",
       "      <th>Race</th>\n",
       "      <th>Age</th>\n",
       "      <th>Condition</th>\n",
       "      <th>EaseofUse</th>\n",
       "      <th>Effectiveness</th>\n",
       "      <th>Sex</th>\n",
       "      <th>SideEffects</th>\n",
       "    </tr>\n",
       "  </thead>\n",
       "  <tbody>\n",
       "    <tr>\n",
       "      <th>0</th>\n",
       "      <td>Black</td>\n",
       "      <td>55-64</td>\n",
       "      <td>depression</td>\n",
       "      <td>5.0</td>\n",
       "      <td>3.0</td>\n",
       "      <td>Male</td>\n",
       "      <td>Moderate</td>\n",
       "    </tr>\n",
       "    <tr>\n",
       "      <th>1</th>\n",
       "      <td>Hispanic</td>\n",
       "      <td>65-74</td>\n",
       "      <td>depression</td>\n",
       "      <td>3.0</td>\n",
       "      <td>1.0</td>\n",
       "      <td>Female</td>\n",
       "      <td>Nil</td>\n",
       "    </tr>\n",
       "    <tr>\n",
       "      <th>2</th>\n",
       "      <td>Hispanic</td>\n",
       "      <td>75-100</td>\n",
       "      <td>anxiousness associated with depression</td>\n",
       "      <td>4.0</td>\n",
       "      <td>2.0</td>\n",
       "      <td>Female</td>\n",
       "      <td>Mild</td>\n",
       "    </tr>\n",
       "    <tr>\n",
       "      <th>3</th>\n",
       "      <td>White</td>\n",
       "      <td>35-44</td>\n",
       "      <td>depression</td>\n",
       "      <td>5.0</td>\n",
       "      <td>5.0</td>\n",
       "      <td>Male</td>\n",
       "      <td>Severe</td>\n",
       "    </tr>\n",
       "    <tr>\n",
       "      <th>4</th>\n",
       "      <td>White</td>\n",
       "      <td>45-54</td>\n",
       "      <td>repeated episodes anxiety</td>\n",
       "      <td>5.0</td>\n",
       "      <td>5.0</td>\n",
       "      <td>Female</td>\n",
       "      <td>Extreme</td>\n",
       "    </tr>\n",
       "  </tbody>\n",
       "</table>\n",
       "</div>"
      ],
      "text/plain": [
       "       Race     Age                               Condition  EaseofUse  \\\n",
       "0     Black   55-64                              depression        5.0   \n",
       "1  Hispanic   65-74                              depression        3.0   \n",
       "2  Hispanic  75-100  anxiousness associated with depression        4.0   \n",
       "3     White   35-44                              depression        5.0   \n",
       "4     White   45-54               repeated episodes anxiety        5.0   \n",
       "\n",
       "   Effectiveness     Sex SideEffects  \n",
       "0            3.0    Male    Moderate  \n",
       "1            1.0  Female         Nil  \n",
       "2            2.0  Female        Mild  \n",
       "3            5.0    Male      Severe  \n",
       "4            5.0  Female     Extreme  "
      ]
     },
     "execution_count": 128,
     "metadata": {},
     "output_type": "execute_result"
    }
   ],
   "source": [
    "data_lex=data_lex.drop(columns = ['Name','Drug','Date','Sides','Reviews','UsefulCount'],axis=1)\n",
    "data_lex=data_lex.reset_index(drop=True)\n",
    "data_lex.head()"
   ]
  },
  {
   "cell_type": "code",
   "execution_count": 129,
   "id": "64288474",
   "metadata": {},
   "outputs": [
    {
     "data": {
      "text/plain": [
       "(2902, 7)"
      ]
     },
     "execution_count": 129,
     "metadata": {},
     "output_type": "execute_result"
    }
   ],
   "source": [
    "data_lex.shape"
   ]
  },
  {
   "cell_type": "markdown",
   "id": "dbf6857b",
   "metadata": {},
   "source": [
    "# 9.Encoding"
   ]
  },
  {
   "cell_type": "code",
   "execution_count": 130,
   "id": "03e180cf",
   "metadata": {},
   "outputs": [
    {
     "name": "stdout",
     "output_type": "stream",
     "text": [
      "<class 'pandas.core.frame.DataFrame'>\n",
      "RangeIndex: 2902 entries, 0 to 2901\n",
      "Data columns (total 7 columns):\n",
      " #   Column         Non-Null Count  Dtype   \n",
      "---  ------         --------------  -----   \n",
      " 0   Race           2902 non-null   category\n",
      " 1   Age            2902 non-null   category\n",
      " 2   Condition      2902 non-null   category\n",
      " 3   EaseofUse      2902 non-null   float64 \n",
      " 4   Effectiveness  2902 non-null   float64 \n",
      " 5   Sex            2902 non-null   category\n",
      " 6   SideEffects    2902 non-null   category\n",
      "dtypes: category(5), float64(2)\n",
      "memory usage: 60.9 KB\n"
     ]
    }
   ],
   "source": [
    "#Finding categorical columns and chnaging datatype\n",
    "for cl in data_lex.select_dtypes(include = ['object']):\n",
    "    data_lex[cl]=data_lex[cl].astype('category')\n",
    "data_lex.info()"
   ]
  },
  {
   "cell_type": "code",
   "execution_count": 131,
   "id": "92bee587",
   "metadata": {},
   "outputs": [],
   "source": [
    "from sklearn.preprocessing import LabelEncoder\n",
    "label=LabelEncoder()"
   ]
  },
  {
   "cell_type": "code",
   "execution_count": 132,
   "id": "8c5a5334",
   "metadata": {},
   "outputs": [
    {
     "name": "stdout",
     "output_type": "stream",
     "text": [
      "<class 'pandas.core.frame.DataFrame'>\n",
      "RangeIndex: 2902 entries, 0 to 2901\n",
      "Data columns (total 7 columns):\n",
      " #   Column         Non-Null Count  Dtype   \n",
      "---  ------         --------------  -----   \n",
      " 0   Race           2902 non-null   category\n",
      " 1   Age            2902 non-null   category\n",
      " 2   Condition      2902 non-null   category\n",
      " 3   EaseofUse      2902 non-null   float64 \n",
      " 4   Effectiveness  2902 non-null   float64 \n",
      " 5   Sex            2902 non-null   category\n",
      " 6   SideEffects    2902 non-null   category\n",
      "dtypes: category(5), float64(2)\n",
      "memory usage: 60.9 KB\n"
     ]
    }
   ],
   "source": [
    "data_lex.info()"
   ]
  },
  {
   "cell_type": "code",
   "execution_count": 133,
   "id": "12df32da",
   "metadata": {},
   "outputs": [
    {
     "data": {
      "text/html": [
       "<div>\n",
       "<style scoped>\n",
       "    .dataframe tbody tr th:only-of-type {\n",
       "        vertical-align: middle;\n",
       "    }\n",
       "\n",
       "    .dataframe tbody tr th {\n",
       "        vertical-align: top;\n",
       "    }\n",
       "\n",
       "    .dataframe thead th {\n",
       "        text-align: right;\n",
       "    }\n",
       "</style>\n",
       "<table border=\"1\" class=\"dataframe\">\n",
       "  <thead>\n",
       "    <tr style=\"text-align: right;\">\n",
       "      <th></th>\n",
       "      <th>Race</th>\n",
       "      <th>Age</th>\n",
       "      <th>Condition</th>\n",
       "      <th>EaseofUse</th>\n",
       "      <th>Effectiveness</th>\n",
       "      <th>Sex</th>\n",
       "      <th>SideEffects</th>\n",
       "    </tr>\n",
       "  </thead>\n",
       "  <tbody>\n",
       "    <tr>\n",
       "      <th>0</th>\n",
       "      <td>Black</td>\n",
       "      <td>55-64</td>\n",
       "      <td>depression</td>\n",
       "      <td>5.0</td>\n",
       "      <td>3.0</td>\n",
       "      <td>Male</td>\n",
       "      <td>Moderate</td>\n",
       "    </tr>\n",
       "    <tr>\n",
       "      <th>1</th>\n",
       "      <td>Hispanic</td>\n",
       "      <td>65-74</td>\n",
       "      <td>depression</td>\n",
       "      <td>3.0</td>\n",
       "      <td>1.0</td>\n",
       "      <td>Female</td>\n",
       "      <td>Nil</td>\n",
       "    </tr>\n",
       "    <tr>\n",
       "      <th>2</th>\n",
       "      <td>Hispanic</td>\n",
       "      <td>75-100</td>\n",
       "      <td>anxiousness associated with depression</td>\n",
       "      <td>4.0</td>\n",
       "      <td>2.0</td>\n",
       "      <td>Female</td>\n",
       "      <td>Mild</td>\n",
       "    </tr>\n",
       "    <tr>\n",
       "      <th>3</th>\n",
       "      <td>White</td>\n",
       "      <td>35-44</td>\n",
       "      <td>depression</td>\n",
       "      <td>5.0</td>\n",
       "      <td>5.0</td>\n",
       "      <td>Male</td>\n",
       "      <td>Severe</td>\n",
       "    </tr>\n",
       "    <tr>\n",
       "      <th>4</th>\n",
       "      <td>White</td>\n",
       "      <td>45-54</td>\n",
       "      <td>repeated episodes anxiety</td>\n",
       "      <td>5.0</td>\n",
       "      <td>5.0</td>\n",
       "      <td>Female</td>\n",
       "      <td>Extreme</td>\n",
       "    </tr>\n",
       "  </tbody>\n",
       "</table>\n",
       "</div>"
      ],
      "text/plain": [
       "       Race     Age                               Condition  EaseofUse  \\\n",
       "0     Black   55-64                              depression        5.0   \n",
       "1  Hispanic   65-74                              depression        3.0   \n",
       "2  Hispanic  75-100  anxiousness associated with depression        4.0   \n",
       "3     White   35-44                              depression        5.0   \n",
       "4     White   45-54               repeated episodes anxiety        5.0   \n",
       "\n",
       "   Effectiveness     Sex SideEffects  \n",
       "0            3.0    Male    Moderate  \n",
       "1            1.0  Female         Nil  \n",
       "2            2.0  Female        Mild  \n",
       "3            5.0    Male      Severe  \n",
       "4            5.0  Female     Extreme  "
      ]
     },
     "execution_count": 133,
     "metadata": {},
     "output_type": "execute_result"
    }
   ],
   "source": [
    "data_lex.head()"
   ]
  },
  {
   "cell_type": "code",
   "execution_count": 134,
   "id": "2477861b",
   "metadata": {},
   "outputs": [],
   "source": [
    "from sklearn.preprocessing import LabelEncoder\n",
    "label=LabelEncoder()\n",
    "#for col in ['SideEffects','Age','Sex']:\n",
    "for col in ['Race','Age','Sex','Condition','SideEffects']:   \n",
    "    data_lex[col]=label.fit_transform((data_lex[col]).astype(str))\n",
    "    \n",
    "data_label=data_lex"
   ]
  },
  {
   "cell_type": "code",
   "execution_count": 135,
   "id": "647b9a0b",
   "metadata": {},
   "outputs": [
    {
     "data": {
      "text/html": [
       "<div>\n",
       "<style scoped>\n",
       "    .dataframe tbody tr th:only-of-type {\n",
       "        vertical-align: middle;\n",
       "    }\n",
       "\n",
       "    .dataframe tbody tr th {\n",
       "        vertical-align: top;\n",
       "    }\n",
       "\n",
       "    .dataframe thead th {\n",
       "        text-align: right;\n",
       "    }\n",
       "</style>\n",
       "<table border=\"1\" class=\"dataframe\">\n",
       "  <thead>\n",
       "    <tr style=\"text-align: right;\">\n",
       "      <th></th>\n",
       "      <th>Race</th>\n",
       "      <th>Age</th>\n",
       "      <th>Condition</th>\n",
       "      <th>EaseofUse</th>\n",
       "      <th>Effectiveness</th>\n",
       "      <th>Sex</th>\n",
       "      <th>SideEffects</th>\n",
       "    </tr>\n",
       "  </thead>\n",
       "  <tbody>\n",
       "    <tr>\n",
       "      <th>0</th>\n",
       "      <td>1</td>\n",
       "      <td>6</td>\n",
       "      <td>3</td>\n",
       "      <td>5.0</td>\n",
       "      <td>3.0</td>\n",
       "      <td>1</td>\n",
       "      <td>2</td>\n",
       "    </tr>\n",
       "    <tr>\n",
       "      <th>1</th>\n",
       "      <td>2</td>\n",
       "      <td>7</td>\n",
       "      <td>3</td>\n",
       "      <td>3.0</td>\n",
       "      <td>1.0</td>\n",
       "      <td>0</td>\n",
       "      <td>3</td>\n",
       "    </tr>\n",
       "    <tr>\n",
       "      <th>2</th>\n",
       "      <td>2</td>\n",
       "      <td>9</td>\n",
       "      <td>0</td>\n",
       "      <td>4.0</td>\n",
       "      <td>2.0</td>\n",
       "      <td>0</td>\n",
       "      <td>1</td>\n",
       "    </tr>\n",
       "    <tr>\n",
       "      <th>3</th>\n",
       "      <td>3</td>\n",
       "      <td>4</td>\n",
       "      <td>3</td>\n",
       "      <td>5.0</td>\n",
       "      <td>5.0</td>\n",
       "      <td>1</td>\n",
       "      <td>4</td>\n",
       "    </tr>\n",
       "    <tr>\n",
       "      <th>4</th>\n",
       "      <td>3</td>\n",
       "      <td>5</td>\n",
       "      <td>9</td>\n",
       "      <td>5.0</td>\n",
       "      <td>5.0</td>\n",
       "      <td>0</td>\n",
       "      <td>0</td>\n",
       "    </tr>\n",
       "  </tbody>\n",
       "</table>\n",
       "</div>"
      ],
      "text/plain": [
       "   Race  Age  Condition  EaseofUse  Effectiveness  Sex  SideEffects\n",
       "0     1    6          3        5.0            3.0    1            2\n",
       "1     2    7          3        3.0            1.0    0            3\n",
       "2     2    9          0        4.0            2.0    0            1\n",
       "3     3    4          3        5.0            5.0    1            4\n",
       "4     3    5          9        5.0            5.0    0            0"
      ]
     },
     "execution_count": 135,
     "metadata": {},
     "output_type": "execute_result"
    }
   ],
   "source": [
    "data_lex.head()"
   ]
  },
  {
   "cell_type": "code",
   "execution_count": 136,
   "id": "5581070c",
   "metadata": {},
   "outputs": [
    {
     "data": {
      "text/plain": [
       "(2902, 7)"
      ]
     },
     "execution_count": 136,
     "metadata": {},
     "output_type": "execute_result"
    }
   ],
   "source": [
    "data_lex.shape"
   ]
  },
  {
   "cell_type": "markdown",
   "id": "c6a2982b",
   "metadata": {},
   "source": [
    "# 10.Scaling"
   ]
  },
  {
   "cell_type": "code",
   "execution_count": 137,
   "id": "e4be02a4",
   "metadata": {},
   "outputs": [],
   "source": [
    "from sklearn.preprocessing import StandardScaler\n",
    "ss=StandardScaler()\n",
    "scale=['Effectiveness','EaseofUse']\n",
    "data_lex[scale] = ss.fit_transform(data_lex[scale])"
   ]
  },
  {
   "cell_type": "code",
   "execution_count": 138,
   "id": "ee3cebe7",
   "metadata": {},
   "outputs": [
    {
     "data": {
      "text/plain": [
       "(2902, 7)"
      ]
     },
     "execution_count": 138,
     "metadata": {},
     "output_type": "execute_result"
    }
   ],
   "source": [
    "data_lex.shape"
   ]
  },
  {
   "cell_type": "markdown",
   "id": "45f1e1ef",
   "metadata": {},
   "source": [
    "# EDA"
   ]
  },
  {
   "cell_type": "markdown",
   "id": "79db7ef0",
   "metadata": {},
   "source": [
    "# 1.Top 20 Drugs by usage"
   ]
  },
  {
   "cell_type": "code",
   "execution_count": 193,
   "id": "b26ea114",
   "metadata": {},
   "outputs": [
    {
     "data": {
      "image/png": "[encoded data removed]",
      "text/plain": [
       "<Figure size 720x360 with 1 Axes>"
      ]
     },
     "metadata": {
      "needs_background": "light"
     },
     "output_type": "display_data"
    }
   ],
   "source": [
    "plt.figure(figsize=(10,5))\n",
    "data['Drug'].value_counts().nlargest(20).plot(kind='bar',color='pink')\n",
    "plt.xlabel('Users')\n",
    "plt.title(\"Top 20 most popular drugs used on counts\")\n",
    "plt.show()"
   ]
  },
  {
   "cell_type": "markdown",
   "id": "64682118",
   "metadata": {},
   "source": [
    "Out of 7000 drugs Cymbalta is most used drug and lisinopril follows second place."
   ]
  },
  {
   "cell_type": "markdown",
   "id": "f95272dc",
   "metadata": {},
   "source": [
    "# 2. Users by Race and Gender"
   ]
  },
  {
   "cell_type": "code",
   "execution_count": 74,
   "id": "84f207ee",
   "metadata": {},
   "outputs": [
    {
     "data": {
      "text/plain": [
       "Text(0.5, 1.0, 'Users by Race and Gender')"
      ]
     },
     "execution_count": 74,
     "metadata": {},
     "output_type": "execute_result"
    },
    {
     "data": {
      "image/png": "[encoded data removed]",
      "text/plain": [
       "<Figure size 432x288 with 1 Axes>"
      ]
     },
     "metadata": {
      "needs_background": "light"
     },
     "output_type": "display_data"
    }
   ],
   "source": [
    "sns.countplot(x='Race',hue='Sex',data=data_lex)\n",
    "plt.title(\"Users by Race and Gender\", fontsize = 10)"
   ]
  },
  {
   "cell_type": "markdown",
   "id": "413457d7",
   "metadata": {},
   "source": [
    "Females dominate in all race for the usage of Lexopra drug"
   ]
  },
  {
   "cell_type": "markdown",
   "id": "f5837ff1",
   "metadata": {},
   "source": [
    "# 3.Users by Gender"
   ]
  },
  {
   "cell_type": "code",
   "execution_count": 79,
   "id": "52cf082b",
   "metadata": {},
   "outputs": [
    {
     "data": {
      "image/png": "[encoded data removed]",
      "text/plain": [
       "<Figure size 288x288 with 1 Axes>"
      ]
     },
     "metadata": {
      "needs_background": "light"
     },
     "output_type": "display_data"
    }
   ],
   "source": [
    "plt.figure(figsize = (4,4))\n",
    "s=sns.countplot(x='Sex', hue='Sex',data=data_lex)\n",
    "plt.title('Users by Gender', fontsize=15)\n",
    "plt.xlabel('Sex')\n",
    "plt.ylabel('Count') \n",
    "plt.show()"
   ]
  },
  {
   "cell_type": "markdown",
   "id": "ffc22f27",
   "metadata": {},
   "source": [
    "Female counts standsmore than male count in Overall usage of Lexopra drug "
   ]
  },
  {
   "cell_type": "markdown",
   "id": "0bd36bc4",
   "metadata": {},
   "source": [
    "# 4.Conditions Lexapro"
   ]
  },
  {
   "cell_type": "code",
   "execution_count": 76,
   "id": "10e62a25",
   "metadata": {},
   "outputs": [
    {
     "data": {
      "text/plain": [
       "Text(0, 0.5, 'Count')"
      ]
     },
     "execution_count": 76,
     "metadata": {},
     "output_type": "execute_result"
    },
    {
     "data": {
      "image/png": "[encoded data removed]",
      "text/plain": [
       "<Figure size 576x576 with 1 Axes>"
      ]
     },
     "metadata": {
      "needs_background": "light"
     },
     "output_type": "display_data"
    }
   ],
   "source": [
    "drug_lexapro['Condition'].value_counts().nlargest(12).plot(kind='bar',figsize=(8,8))\n",
    "plt.suptitle(\"Lexapro Conditions\")\n",
    "plt.xlabel('Condition')\n",
    "plt.ylabel('Count')"
   ]
  },
  {
   "cell_type": "markdown",
   "id": "4a740e64",
   "metadata": {},
   "source": [
    "Lexapro is used for 10 conditions.Most users consume the drug for depression."
   ]
  },
  {
   "cell_type": "markdown",
   "id": "a9caf1b4",
   "metadata": {},
   "source": [
    "# 5.Users by Age and Gender"
   ]
  },
  {
   "cell_type": "code",
   "execution_count": 82,
   "id": "121cc3d4",
   "metadata": {},
   "outputs": [
    {
     "data": {
      "text/plain": [
       "Text(0.5, 1.0, 'Users by Age and Gender')"
      ]
     },
     "execution_count": 82,
     "metadata": {},
     "output_type": "execute_result"
    },
    {
     "data": {
      "image/png": "[encoded data removed]",
      "text/plain": [
       "<Figure size 720x432 with 1 Axes>"
      ]
     },
     "metadata": {
      "needs_background": "light"
     },
     "output_type": "display_data"
    }
   ],
   "source": [
    "plt.figure(figsize=(10, 6))\n",
    "sns.countplot(x='Age',hue='Sex',data=data_lex)\n",
    "plt.title(\"Users by Age and Gender\", fontsize = 10)"
   ]
  },
  {
   "cell_type": "markdown",
   "id": "833ad06c",
   "metadata": {},
   "source": [
    "Female users count is greater than male in all age groups.Main users are in the age group between 19 to 44."
   ]
  },
  {
   "cell_type": "markdown",
   "id": "da687866",
   "metadata": {},
   "source": [
    "# 6.Users by Age and Side effects"
   ]
  },
  {
   "cell_type": "code",
   "execution_count": 83,
   "id": "fdbe5042",
   "metadata": {},
   "outputs": [
    {
     "data": {
      "text/plain": [
       "Text(0.5, 1.0, 'Users by Age and Gender')"
      ]
     },
     "execution_count": 83,
     "metadata": {},
     "output_type": "execute_result"
    },
    {
     "data": {
      "image/png": "[encoded data removed]",
      "text/plain": [
       "<Figure size 720x432 with 1 Axes>"
      ]
     },
     "metadata": {
      "needs_background": "light"
     },
     "output_type": "display_data"
    }
   ],
   "source": [
    "plt.figure(figsize=(10, 6))\n",
    "sns.countplot(x='Age',hue='SideEffects',data=data_lex)\n",
    "plt.title(\"Users by Age and Side effects\", fontsize = 10)"
   ]
  },
  {
   "cell_type": "markdown",
   "id": "f71e88a8",
   "metadata": {},
   "source": [
    "# 7. Top 20 Conditions"
   ]
  },
  {
   "cell_type": "code",
   "execution_count": 147,
   "id": "25595478",
   "metadata": {},
   "outputs": [
    {
     "data": {
      "text/plain": [
       "Text(0, 0.5, 'Users')"
      ]
     },
     "execution_count": 147,
     "metadata": {},
     "output_type": "execute_result"
    },
    {
     "data": {
      "image/png": "[encoded data removed]",
      "text/plain": [
       "<Figure size 576x576 with 1 Axes>"
      ]
     },
     "metadata": {
      "needs_background": "light"
     },
     "output_type": "display_data"
    }
   ],
   "source": [
    "data['Condition'].value_counts().nlargest(20).plot(kind='bar',figsize=(8,8),color='green')\n",
    "plt.suptitle(\"Top 20 Conditions\")\n",
    "plt.xlabel('Conditions')\n",
    "plt.ylabel('Users')"
   ]
  },
  {
   "cell_type": "markdown",
   "id": "42eee57f",
   "metadata": {},
   "source": [
    "Of 1806 Conditions, Other Conditions tops the chart followed respectively by Pain and High Blood Pressure."
   ]
  },
  {
   "cell_type": "markdown",
   "id": "95f22cce",
   "metadata": {},
   "source": [
    "# 8.Users by Race "
   ]
  },
  {
   "cell_type": "code",
   "execution_count": 33,
   "id": "c990b983",
   "metadata": {},
   "outputs": [
    {
     "data": {
      "text/plain": [
       "Text(0, 0.5, 'Count')"
      ]
     },
     "execution_count": 33,
     "metadata": {},
     "output_type": "execute_result"
    },
    {
     "data": {
      "image/png": "[encoded data removed]",
      "text/plain": [
       "<Figure size 432x288 with 1 Axes>"
      ]
     },
     "metadata": {
      "needs_background": "light"
     },
     "output_type": "display_data"
    }
   ],
   "source": [
    "data_copy['Race'].value_counts().plot(kind='bar')\n",
    "plt.title(\"Race\", fontsize = 10)\n",
    "plt.xlabel(\"Race\", fontsize = 10)\n",
    "plt.ylabel(\"Count\", fontsize = 10)"
   ]
  },
  {
   "cell_type": "markdown",
   "id": "aaf0084f",
   "metadata": {},
   "source": [
    "The usage of drugs is greater in white race than all other race."
   ]
  },
  {
   "cell_type": "markdown",
   "id": "2c161aed",
   "metadata": {},
   "source": [
    "# 9. Side effects -Lexopra"
   ]
  },
  {
   "cell_type": "code",
   "execution_count": 40,
   "id": "3438ce71",
   "metadata": {},
   "outputs": [
    {
     "data": {
      "image/png": "[encoded data removed]",
      "text/plain": [
       "<Figure size 432x432 with 1 Axes>"
      ]
     },
     "metadata": {},
     "output_type": "display_data"
    }
   ],
   "source": [
    "plt.figure(figsize=(6,6))\n",
    "data_lex['SideEffects'].value_counts().plot.pie(autopct='%1.1f%%',shadow=True)\n",
    "plt.show()"
   ]
  },
  {
   "cell_type": "markdown",
   "id": "bfbd32a2",
   "metadata": {},
   "source": [
    "Extremely Severe Side Effects accounted for the most closely followed by No Side Effects. Mild symptoms accounted for the least"
   ]
  },
  {
   "cell_type": "markdown",
   "id": "69eb1026",
   "metadata": {},
   "source": [
    "# 10.Usage by Gender and Effectiveness"
   ]
  },
  {
   "cell_type": "code",
   "execution_count": 45,
   "id": "a53c014c",
   "metadata": {},
   "outputs": [
    {
     "data": {
      "text/plain": [
       "<Figure size 720x576 with 0 Axes>"
      ]
     },
     "metadata": {},
     "output_type": "display_data"
    },
    {
     "data": {
      "image/png": "[encoded data removed]",
      "text/plain": [
       "<Figure size 777.6x432 with 2 Axes>"
      ]
     },
     "metadata": {
      "needs_background": "light"
     },
     "output_type": "display_data"
    }
   ],
   "source": [
    "plt.figure(figsize=(10,8))\n",
    "g = sns.catplot(x=\"Effectiveness\",col=\"Sex\",\n",
    "                data=data_lex, kind=\"count\",\n",
    "                height=6,aspect =.9);"
   ]
  },
  {
   "cell_type": "markdown",
   "id": "dc24ab6a",
   "metadata": {},
   "source": [
    "Lexopra  medicine is found more effcetive in females."
   ]
  },
  {
   "cell_type": "markdown",
   "id": "8714615c",
   "metadata": {},
   "source": [
    "# Splitting the Data"
   ]
  },
  {
   "cell_type": "code",
   "execution_count": 139,
   "id": "3a856ce5",
   "metadata": {},
   "outputs": [],
   "source": [
    "#target\n",
    "y = data_lex['SideEffects']"
   ]
  },
  {
   "cell_type": "code",
   "execution_count": 140,
   "id": "425d6096",
   "metadata": {},
   "outputs": [],
   "source": [
    "X = data_lex.drop(['SideEffects'],axis=1)"
   ]
  },
  {
   "cell_type": "code",
   "execution_count": 141,
   "id": "35865eb2",
   "metadata": {},
   "outputs": [
    {
     "data": {
      "text/plain": [
       "(2902, 6)"
      ]
     },
     "execution_count": 141,
     "metadata": {},
     "output_type": "execute_result"
    }
   ],
   "source": [
    "X.shape"
   ]
  },
  {
   "cell_type": "markdown",
   "id": "e59cbc34",
   "metadata": {},
   "source": [
    "# Splitting the dataset into test and train"
   ]
  },
  {
   "cell_type": "code",
   "execution_count": 142,
   "id": "a27eaf72",
   "metadata": {},
   "outputs": [],
   "source": [
    "from sklearn.model_selection import train_test_split\n",
    "X_train,X_test,y_train,y_test = train_test_split(X,y, random_state=42,test_size=0.2)#assigninng values"
   ]
  },
  {
   "cell_type": "code",
   "execution_count": 143,
   "id": "abed3a99",
   "metadata": {},
   "outputs": [
    {
     "data": {
      "text/plain": [
       "(2321, 6)"
      ]
     },
     "execution_count": 143,
     "metadata": {},
     "output_type": "execute_result"
    }
   ],
   "source": [
    "X_train.shape"
   ]
  },
  {
   "cell_type": "code",
   "execution_count": 144,
   "id": "6afe0fa7",
   "metadata": {},
   "outputs": [
    {
     "data": {
      "text/plain": [
       "(581, 6)"
      ]
     },
     "execution_count": 144,
     "metadata": {},
     "output_type": "execute_result"
    }
   ],
   "source": [
    "X_test.shape"
   ]
  },
  {
   "cell_type": "code",
   "execution_count": 145,
   "id": "2a6dad46",
   "metadata": {},
   "outputs": [
    {
     "data": {
      "text/plain": [
       "(2321,)"
      ]
     },
     "execution_count": 145,
     "metadata": {},
     "output_type": "execute_result"
    }
   ],
   "source": [
    "y_train.shape"
   ]
  },
  {
   "cell_type": "code",
   "execution_count": 146,
   "id": "99a15c93",
   "metadata": {},
   "outputs": [
    {
     "data": {
      "text/plain": [
       "(581,)"
      ]
     },
     "execution_count": 146,
     "metadata": {},
     "output_type": "execute_result"
    }
   ],
   "source": [
    "y_test.shape"
   ]
  },
  {
   "cell_type": "markdown",
   "id": "4e58970f",
   "metadata": {},
   "source": [
    "# Modelling"
   ]
  },
  {
   "cell_type": "markdown",
   "id": "c8ad12f0",
   "metadata": {},
   "source": [
    "# 1.Logistic Regression Model"
   ]
  },
  {
   "cell_type": "code",
   "execution_count": 222,
   "id": "ad61b59b",
   "metadata": {},
   "outputs": [],
   "source": [
    "from sklearn.linear_model import LogisticRegression\n",
    "logit_model = LogisticRegression(multi_class='multinomial')\n",
    "logit_model.fit(X_train, y_train)\n",
    "y_pred = logit_model.predict(X_test)"
   ]
  },
  {
   "cell_type": "code",
   "execution_count": 152,
   "id": "d9596bb9",
   "metadata": {},
   "outputs": [],
   "source": [
    "from sklearn.metrics import confusion_matrix, accuracy_score, precision_score,recall_score,f1_score,classification_report"
   ]
  },
  {
   "cell_type": "markdown",
   "id": "83543d64",
   "metadata": {},
   "source": [
    "# Performance Evaluation"
   ]
  },
  {
   "cell_type": "code",
   "execution_count": 223,
   "id": "67aca972",
   "metadata": {},
   "outputs": [
    {
     "name": "stdout",
     "output_type": "stream",
     "text": [
      "Accuracy is :  66.95352839931154\n"
     ]
    }
   ],
   "source": [
    "print(\"Accuracy is : \", accuracy_score(y_test, y_pred)*100)"
   ]
  },
  {
   "cell_type": "code",
   "execution_count": 182,
   "id": "4bc858d0",
   "metadata": {},
   "outputs": [
    {
     "name": "stdout",
     "output_type": "stream",
     "text": [
      "f1 score is 0.6695352839931153\n"
     ]
    }
   ],
   "source": [
    "print(\"f1 score is\" ,f1_score(y_test,y_pred,  pos_label='positive', average='micro'))"
   ]
  },
  {
   "cell_type": "markdown",
   "id": "e8286b3b",
   "metadata": {},
   "source": [
    "# Confusion Matrix of Logistic Regression Model"
   ]
  },
  {
   "cell_type": "code",
   "execution_count": 167,
   "id": "c7afc4b2",
   "metadata": {},
   "outputs": [
    {
     "data": {
      "text/plain": [
       "array([[193,   0,   2,   0,  18],\n",
       "       [  9,   0,  31,  16,   6],\n",
       "       [ 18,   0,  39,   6,  23],\n",
       "       [  6,   0,   8,  84,   7],\n",
       "       [ 28,   0,  14,   0,  73]], dtype=int64)"
      ]
     },
     "execution_count": 167,
     "metadata": {},
     "output_type": "execute_result"
    }
   ],
   "source": [
    "confusion_matrix(y_test,y_pred)"
   ]
  },
  {
   "cell_type": "markdown",
   "id": "1313d504",
   "metadata": {},
   "source": [
    "# 2. KNN Model"
   ]
  },
  {
   "cell_type": "code",
   "execution_count": 168,
   "id": "5c55a756",
   "metadata": {},
   "outputs": [],
   "source": [
    "from sklearn.neighbors import KNeighborsClassifier"
   ]
  },
  {
   "cell_type": "code",
   "execution_count": 169,
   "id": "5570ac6b",
   "metadata": {},
   "outputs": [],
   "source": [
    "acc_values = []\n",
    "neighbors = np.arange(3,15)\n",
    "\n",
    "# creating a loop to create KNN model for each K value\n",
    "for k in neighbors:\n",
    "#taking the instance of KNN to a variable.the variable name is classifier.\n",
    "    classifier = KNeighborsClassifier(n_neighbors= k, metric = 'minkowski')    #no: of neighbors n the methode to measure the distance .instance is created\n",
    "#we have to create the model.\n",
    "    classifier = KNeighborsClassifier(n_neighbors= k)\n",
    "    classifier.fit(X_train,y_train)\n",
    "#have to predict output using this model.\n",
    "    y_pred = classifier.predict(X_test)#KNN is created\n",
    "#append the accurcy values to empty list in order to fing out maximum accuracy.\n",
    "    acc = accuracy_score(y_test, y_pred)#taking accuracy values to variable acc \n",
    "#append these accuracy values to our list\n",
    "    acc_values.append(acc)"
   ]
  },
  {
   "cell_type": "code",
   "execution_count": 170,
   "id": "1915723c",
   "metadata": {},
   "outputs": [
    {
     "data": {
      "text/plain": [
       "[0.5611015490533563,\n",
       " 0.5662650602409639,\n",
       " 0.5697074010327022,\n",
       " 0.5834767641996558,\n",
       " 0.5697074010327022,\n",
       " 0.5972461273666093,\n",
       " 0.5851979345955249,\n",
       " 0.5903614457831325,\n",
       " 0.5869191049913941,\n",
       " 0.5869191049913941,\n",
       " 0.576592082616179,\n",
       " 0.5834767641996558]"
      ]
     },
     "execution_count": 170,
     "metadata": {},
     "output_type": "execute_result"
    }
   ],
   "source": [
    "acc_values"
   ]
  },
  {
   "cell_type": "markdown",
   "id": "404ac9e1",
   "metadata": {},
   "source": [
    "# To find which k value got the highest accuracy, plotted a graph between neighbor values (i.e. k values) and accuracy values"
   ]
  },
  {
   "cell_type": "code",
   "execution_count": 171,
   "id": "8534e7cc",
   "metadata": {},
   "outputs": [
    {
     "data": {
      "text/plain": [
       "Text(0, 0.5, 'accuracy')"
      ]
     },
     "execution_count": 171,
     "metadata": {},
     "output_type": "execute_result"
    },
    {
     "data": {
      "image/png": "[encoded data removed]",
      "text/plain": [
       "<Figure size 432x288 with 1 Axes>"
      ]
     },
     "metadata": {
      "needs_background": "light"
     },
     "output_type": "display_data"
    }
   ],
   "source": [
    "plt.plot(neighbors,acc_values,'o-')\n",
    "plt.xlabel('k value')\n",
    "plt.ylabel('accuracy')"
   ]
  },
  {
   "cell_type": "markdown",
   "id": "1bd08a0e",
   "metadata": {},
   "source": [
    "# KNN Model with k=12"
   ]
  },
  {
   "cell_type": "code",
   "execution_count": 172,
   "id": "c4e12643",
   "metadata": {},
   "outputs": [],
   "source": [
    "classifier = KNeighborsClassifier(n_neighbors= 12, metric = 'minkowski')\n",
    "classifier.fit(X_train,y_train)\n",
    "y_pred = classifier.predict(X_test)"
   ]
  },
  {
   "cell_type": "markdown",
   "id": "24bb7282",
   "metadata": {},
   "source": [
    "# Performance Evaluation"
   ]
  },
  {
   "cell_type": "code",
   "execution_count": 173,
   "id": "b1bfbb28",
   "metadata": {},
   "outputs": [
    {
     "name": "stdout",
     "output_type": "stream",
     "text": [
      "Accuracy is :  58.69191049913941\n"
     ]
    }
   ],
   "source": [
    "print(\"Accuracy is : \", accuracy_score(y_test, y_pred)*100)"
   ]
  },
  {
   "cell_type": "code",
   "execution_count": 174,
   "id": "77147d03",
   "metadata": {},
   "outputs": [
    {
     "name": "stdout",
     "output_type": "stream",
     "text": [
      "f1 score is 0.5869191049913941\n"
     ]
    }
   ],
   "source": [
    "print(\"f1 score is\" ,f1_score(y_test,y_pred,  pos_label='positive', average='micro'))"
   ]
  },
  {
   "cell_type": "markdown",
   "id": "2c229b2f",
   "metadata": {},
   "source": [
    "# Confusion Matrix of KNN Classifier"
   ]
  },
  {
   "cell_type": "code",
   "execution_count": 222,
   "id": "158af843",
   "metadata": {},
   "outputs": [
    {
     "data": {
      "text/plain": [
       "array([[193,   0,   4,   0,  16],\n",
       "       [ 11,   4,  15,  12,  20],\n",
       "       [ 24,   8,  23,   1,  30],\n",
       "       [  8,   2,  16,  74,   5],\n",
       "       [ 42,   0,  23,   0,  50]], dtype=int64)"
      ]
     },
     "execution_count": 222,
     "metadata": {},
     "output_type": "execute_result"
    }
   ],
   "source": [
    "confusion_matrix(y_test,y_pred)"
   ]
  },
  {
   "cell_type": "markdown",
   "id": "e3fedd90",
   "metadata": {},
   "source": [
    "# 3.Decision Tree Classifier"
   ]
  },
  {
   "cell_type": "code",
   "execution_count": 183,
   "id": "9e65df34",
   "metadata": {},
   "outputs": [],
   "source": [
    "from sklearn.tree import DecisionTreeClassifier\n",
    "dt_model = DecisionTreeClassifier()\n",
    "dt_model.fit(X_train,y_train)\n",
    "y_pred = dt_model.predict(X_test)"
   ]
  },
  {
   "cell_type": "markdown",
   "id": "e67aceac",
   "metadata": {},
   "source": [
    "# Performance Evaluation"
   ]
  },
  {
   "cell_type": "code",
   "execution_count": 184,
   "id": "fdefc5ac",
   "metadata": {},
   "outputs": [
    {
     "name": "stdout",
     "output_type": "stream",
     "text": [
      "Accuracy is :  58.17555938037866\n"
     ]
    }
   ],
   "source": [
    "print(\"Accuracy is : \", accuracy_score(y_test, y_pred)*100)"
   ]
  },
  {
   "cell_type": "code",
   "execution_count": 185,
   "id": "a200cfc2",
   "metadata": {},
   "outputs": [
    {
     "name": "stdout",
     "output_type": "stream",
     "text": [
      "f1 score is 0.5817555938037866\n"
     ]
    }
   ],
   "source": [
    "print(\"f1 score is\" ,f1_score(y_test,y_pred,  pos_label='positive', average='micro'))"
   ]
  },
  {
   "cell_type": "markdown",
   "id": "8d9230fa",
   "metadata": {},
   "source": [
    "# Confusion Matrix of Decision Tree Model"
   ]
  },
  {
   "cell_type": "code",
   "execution_count": 225,
   "id": "bf72d6bf",
   "metadata": {},
   "outputs": [
    {
     "data": {
      "text/plain": [
       "array([[181,   2,   6,   0,  24],\n",
       "       [ 11,  11,  23,   9,   8],\n",
       "       [ 20,  19,  25,   4,  18],\n",
       "       [  8,  13,  10,  68,   6],\n",
       "       [ 34,   8,  17,   2,  54]], dtype=int64)"
      ]
     },
     "execution_count": 225,
     "metadata": {},
     "output_type": "execute_result"
    }
   ],
   "source": [
    "confusion_matrix(y_test,y_pred)"
   ]
  },
  {
   "cell_type": "markdown",
   "id": "87976642",
   "metadata": {},
   "source": [
    "# 4.Support Vector machine"
   ]
  },
  {
   "cell_type": "markdown",
   "id": "8b0565a6",
   "metadata": {},
   "source": [
    "# a Linear SVM"
   ]
  },
  {
   "cell_type": "code",
   "execution_count": 186,
   "id": "75792977",
   "metadata": {},
   "outputs": [],
   "source": [
    "from sklearn.svm import SVC\n",
    "svm_linear = SVC(kernel = 'linear')#creating an instance\n",
    "svm_linear.fit(X_train,y_train)\n",
    "y_pred = svm_linear.predict(X_test)"
   ]
  },
  {
   "cell_type": "markdown",
   "id": "3b537911",
   "metadata": {},
   "source": [
    "# Performance evaluation"
   ]
  },
  {
   "cell_type": "code",
   "execution_count": 187,
   "id": "055ff700",
   "metadata": {},
   "outputs": [
    {
     "name": "stdout",
     "output_type": "stream",
     "text": [
      "Accuracy is :  67.46987951807229\n"
     ]
    }
   ],
   "source": [
    "print(\"Accuracy is : \", accuracy_score(y_test, y_pred)*100)"
   ]
  },
  {
   "cell_type": "code",
   "execution_count": 188,
   "id": "ca24004c",
   "metadata": {},
   "outputs": [
    {
     "name": "stdout",
     "output_type": "stream",
     "text": [
      "f1 score is 0.6746987951807228\n"
     ]
    }
   ],
   "source": [
    "print(\"f1 score is\" ,f1_score(y_test,y_pred,  pos_label='positive', average='micro'))"
   ]
  },
  {
   "cell_type": "markdown",
   "id": "4b8e3842",
   "metadata": {},
   "source": [
    "# Confusion Matrix of Linear SVM Model"
   ]
  },
  {
   "cell_type": "code",
   "execution_count": 228,
   "id": "dc5b58e8",
   "metadata": {},
   "outputs": [
    {
     "data": {
      "text/plain": [
       "array([[195,   0,   2,   0,  16],\n",
       "       [  9,   0,  31,  16,   6],\n",
       "       [ 19,   0,  39,   6,  22],\n",
       "       [  7,   0,   8,  84,   6],\n",
       "       [ 30,   0,  11,   0,  74]], dtype=int64)"
      ]
     },
     "execution_count": 228,
     "metadata": {},
     "output_type": "execute_result"
    }
   ],
   "source": [
    "confusion_matrix(y_test,y_pred)"
   ]
  },
  {
   "cell_type": "markdown",
   "id": "203adf10",
   "metadata": {},
   "source": [
    "# b. Polynomial SVM"
   ]
  },
  {
   "cell_type": "code",
   "execution_count": 189,
   "id": "e62923d4",
   "metadata": {},
   "outputs": [],
   "source": [
    "svm_poly = SVC(kernel = 'poly', degree=3)\n",
    "svm_poly.fit(X_train,y_train)\n",
    "y_pred = svm_poly.predict(X_test)"
   ]
  },
  {
   "cell_type": "markdown",
   "id": "3932b644",
   "metadata": {},
   "source": [
    "# Performance Evaluation"
   ]
  },
  {
   "cell_type": "code",
   "execution_count": 190,
   "id": "cc743c91",
   "metadata": {},
   "outputs": [
    {
     "name": "stdout",
     "output_type": "stream",
     "text": [
      "Accuracy is :  61.2736660929432\n"
     ]
    }
   ],
   "source": [
    "print(\"Accuracy is : \", accuracy_score(y_test, y_pred)*100)"
   ]
  },
  {
   "cell_type": "code",
   "execution_count": 191,
   "id": "57d2d680",
   "metadata": {},
   "outputs": [
    {
     "name": "stdout",
     "output_type": "stream",
     "text": [
      "f1 score is 0.612736660929432\n"
     ]
    }
   ],
   "source": [
    "print(\"f1 score is\" ,f1_score(y_test,y_pred,  pos_label='positive', average='micro'))"
   ]
  },
  {
   "cell_type": "markdown",
   "id": "14e61142",
   "metadata": {},
   "source": [
    "# Confusion Matrix of Linear SVM Model"
   ]
  },
  {
   "cell_type": "code",
   "execution_count": 231,
   "id": "91d9b429",
   "metadata": {},
   "outputs": [
    {
     "data": {
      "text/plain": [
       "array([[199,   0,   1,   0,  13],\n",
       "       [ 14,   1,  23,  12,  12],\n",
       "       [ 27,   0,  30,   5,  24],\n",
       "       [  9,   2,  10,  75,   9],\n",
       "       [ 44,   0,  10,   0,  61]], dtype=int64)"
      ]
     },
     "execution_count": 231,
     "metadata": {},
     "output_type": "execute_result"
    }
   ],
   "source": [
    "confusion_matrix(y_test,y_pred)"
   ]
  },
  {
   "cell_type": "markdown",
   "id": "1f9d01b6",
   "metadata": {},
   "source": [
    "# c. Radial SVM"
   ]
  },
  {
   "cell_type": "code",
   "execution_count": 192,
   "id": "b6967fa7",
   "metadata": {},
   "outputs": [],
   "source": [
    "svm_radial = SVC(kernel='rbf')\n",
    "svm_radial.fit(X_train,y_train)\n",
    "y_pred=svm_radial.predict(X_test)"
   ]
  },
  {
   "cell_type": "markdown",
   "id": "c9d8f514",
   "metadata": {},
   "source": [
    "# Performance Evaluation"
   ]
  },
  {
   "cell_type": "code",
   "execution_count": 193,
   "id": "4d7b576b",
   "metadata": {},
   "outputs": [
    {
     "name": "stdout",
     "output_type": "stream",
     "text": [
      "Accuracy is :  66.7814113597246\n"
     ]
    }
   ],
   "source": [
    "print(\"Accuracy is : \", accuracy_score(y_test, y_pred)*100)"
   ]
  },
  {
   "cell_type": "code",
   "execution_count": 194,
   "id": "d3a7e9f0",
   "metadata": {},
   "outputs": [
    {
     "name": "stdout",
     "output_type": "stream",
     "text": [
      "f1 score is 0.6678141135972461\n"
     ]
    }
   ],
   "source": [
    "print(\"f1 score is\" ,f1_score(y_test,y_pred,  pos_label='positive', average='micro'))"
   ]
  },
  {
   "cell_type": "markdown",
   "id": "926db790",
   "metadata": {},
   "source": [
    "# Confusion Matrix of Radial SVM Model"
   ]
  },
  {
   "cell_type": "code",
   "execution_count": 234,
   "id": "4dc83289",
   "metadata": {},
   "outputs": [
    {
     "data": {
      "text/plain": [
       "array([[195,   0,   2,   0,  16],\n",
       "       [  9,   0,  32,  13,   8],\n",
       "       [ 19,   0,  38,   5,  24],\n",
       "       [  6,   0,  11,  81,   7],\n",
       "       [ 30,   0,  11,   0,  74]], dtype=int64)"
      ]
     },
     "execution_count": 234,
     "metadata": {},
     "output_type": "execute_result"
    }
   ],
   "source": [
    "confusion_matrix(y_test,y_pred)"
   ]
  },
  {
   "cell_type": "markdown",
   "id": "a2656988",
   "metadata": {},
   "source": [
    "# 5.Random Forest Classifier"
   ]
  },
  {
   "cell_type": "code",
   "execution_count": 198,
   "id": "6a838ce6",
   "metadata": {},
   "outputs": [],
   "source": [
    "from sklearn.ensemble import RandomForestClassifier\n",
    "rf=RandomForestClassifier()\n",
    "#training the model\n",
    "rf.fit(X_train,y_train)\n",
    "#to make predictions\n",
    "y_pred=rf.predict(X_test)"
   ]
  },
  {
   "cell_type": "markdown",
   "id": "d4225434",
   "metadata": {},
   "source": [
    "# Performance Evaluation"
   ]
  },
  {
   "cell_type": "code",
   "execution_count": 199,
   "id": "a2cae7f4",
   "metadata": {},
   "outputs": [
    {
     "name": "stdout",
     "output_type": "stream",
     "text": [
      "Accuracy is :  61.10154905335629\n"
     ]
    }
   ],
   "source": [
    "print(\"Accuracy is : \", accuracy_score(y_test, y_pred)*100)"
   ]
  },
  {
   "cell_type": "code",
   "execution_count": 200,
   "id": "8c83d93a",
   "metadata": {},
   "outputs": [
    {
     "name": "stdout",
     "output_type": "stream",
     "text": [
      "f1 score is 0.6110154905335629\n"
     ]
    }
   ],
   "source": [
    "print(\"f1 score is\" ,f1_score(y_test,y_pred,  pos_label='positive', average='micro'))"
   ]
  },
  {
   "cell_type": "markdown",
   "id": "7ef01177",
   "metadata": {},
   "source": [
    "# Confusion Matrix of Random forest classifier"
   ]
  },
  {
   "cell_type": "code",
   "execution_count": 238,
   "id": "8a1fb8ee",
   "metadata": {},
   "outputs": [
    {
     "data": {
      "text/plain": [
       "array([[180,   1,   4,   0,  28],\n",
       "       [ 11,   8,  28,   8,   7],\n",
       "       [ 19,  11,  33,   4,  19],\n",
       "       [  7,   8,   8,  76,   6],\n",
       "       [ 31,   6,  19,   1,  58]], dtype=int64)"
      ]
     },
     "execution_count": 238,
     "metadata": {},
     "output_type": "execute_result"
    }
   ],
   "source": [
    "confusion_matrix(y_test,y_pred)"
   ]
  },
  {
   "cell_type": "markdown",
   "id": "75ced113",
   "metadata": {},
   "source": [
    "# Fine Tuning of Hyper Parametrs"
   ]
  },
  {
   "cell_type": "code",
   "execution_count": 206,
   "id": "fbe09a4f",
   "metadata": {
    "scrolled": true
   },
   "outputs": [
    {
     "data": {
      "text/plain": [
       "RandomForestClassifier()"
      ]
     },
     "execution_count": 206,
     "metadata": {},
     "output_type": "execute_result"
    }
   ],
   "source": [
    "rf.fit(X_train,y_train)"
   ]
  },
  {
   "cell_type": "code",
   "execution_count": 207,
   "id": "f65a294d",
   "metadata": {},
   "outputs": [],
   "source": [
    "# creating another instance of random forest classifier with some changes in hyperparameter\n",
    "rft= RandomForestClassifier(bootstrap=True, n_estimators=1000,max_depth=8,random_state =42,criterion='entropy')"
   ]
  },
  {
   "cell_type": "code",
   "execution_count": 208,
   "id": "a2bb37f1",
   "metadata": {},
   "outputs": [
    {
     "data": {
      "text/plain": [
       "RandomForestClassifier(criterion='entropy', max_depth=8, n_estimators=1000,\n",
       "                       random_state=42)"
      ]
     },
     "execution_count": 208,
     "metadata": {},
     "output_type": "execute_result"
    }
   ],
   "source": [
    "rft.fit(X_train,y_train)"
   ]
  },
  {
   "cell_type": "code",
   "execution_count": 209,
   "id": "4de6f367",
   "metadata": {},
   "outputs": [],
   "source": [
    "y_pred=rft.predict(X_test)"
   ]
  },
  {
   "cell_type": "code",
   "execution_count": 210,
   "id": "d2fc5887",
   "metadata": {},
   "outputs": [
    {
     "name": "stdout",
     "output_type": "stream",
     "text": [
      "Accuracy is :  66.09294320137694\n"
     ]
    }
   ],
   "source": [
    "print(\"Accuracy is : \", accuracy_score(y_test, y_pred)*100)"
   ]
  },
  {
   "cell_type": "code",
   "execution_count": 211,
   "id": "259c7aa5",
   "metadata": {},
   "outputs": [
    {
     "name": "stdout",
     "output_type": "stream",
     "text": [
      "f1 score is 0.6609294320137694\n"
     ]
    }
   ],
   "source": [
    "print(\"f1 score is\" ,f1_score(y_test,y_pred,  pos_label='positive', average='micro'))"
   ]
  },
  {
   "cell_type": "markdown",
   "id": "8e73768d",
   "metadata": {},
   "source": [
    "# 6.Gradient Boosting"
   ]
  },
  {
   "cell_type": "code",
   "execution_count": 215,
   "id": "1864585b",
   "metadata": {},
   "outputs": [],
   "source": [
    "from sklearn.ensemble import GradientBoostingClassifier\n",
    "gb = GradientBoostingClassifier()\n",
    "gb.fit(X_train,y_train)\n",
    "y_pred = gb.predict(X_test)"
   ]
  },
  {
   "cell_type": "markdown",
   "id": "1344f419",
   "metadata": {},
   "source": [
    "# Performance evaluation"
   ]
  },
  {
   "cell_type": "code",
   "execution_count": 216,
   "id": "545a0c57",
   "metadata": {},
   "outputs": [
    {
     "name": "stdout",
     "output_type": "stream",
     "text": [
      "Accuracy is :  65.23235800344234\n"
     ]
    }
   ],
   "source": [
    "print(\"Accuracy is : \", accuracy_score(y_test, y_pred)*100)"
   ]
  },
  {
   "cell_type": "code",
   "execution_count": 218,
   "id": "30b8f2ec",
   "metadata": {},
   "outputs": [
    {
     "name": "stdout",
     "output_type": "stream",
     "text": [
      "f1 score is 0.6523235800344234\n"
     ]
    }
   ],
   "source": [
    "print(\"f1 score is\" ,f1_score(y_test,y_pred,  pos_label='positive', average='micro'))"
   ]
  },
  {
   "cell_type": "markdown",
   "id": "02198756",
   "metadata": {},
   "source": [
    "# Confusion Matrix of Gradient Boosting"
   ]
  },
  {
   "cell_type": "code",
   "execution_count": 246,
   "id": "edd3362d",
   "metadata": {},
   "outputs": [
    {
     "data": {
      "text/plain": [
       "array([[190,   0,   2,   0,  21],\n",
       "       [  9,  10,  29,   6,   8],\n",
       "       [ 19,   4,  38,   3,  22],\n",
       "       [  6,   9,   8,  75,   7],\n",
       "       [ 28,   0,  16,   0,  71]], dtype=int64)"
      ]
     },
     "execution_count": 246,
     "metadata": {},
     "output_type": "execute_result"
    }
   ],
   "source": [
    "confusion_matrix(y_test,y_pred)"
   ]
  },
  {
   "cell_type": "markdown",
   "id": "630043bc",
   "metadata": {},
   "source": [
    "# 7.Extreme Gradient Boosting"
   ]
  },
  {
   "cell_type": "code",
   "execution_count": 147,
   "id": "9464341e",
   "metadata": {},
   "outputs": [
    {
     "name": "stdout",
     "output_type": "stream",
     "text": [
      "Requirement already satisfied: xgboost in c:\\users\\hp\\anaconda3\\lib\\site-packages (1.6.2)\n",
      "Requirement already satisfied: numpy in c:\\users\\hp\\anaconda3\\lib\\site-packages (from xgboost) (1.21.5)\n",
      "Requirement already satisfied: scipy in c:\\users\\hp\\anaconda3\\lib\\site-packages (from xgboost) (1.7.3)\n",
      "Note: you may need to restart the kernel to use updated packages.\n"
     ]
    }
   ],
   "source": [
    "pip install xgboost"
   ]
  },
  {
   "cell_type": "code",
   "execution_count": 219,
   "id": "5ce7f54c",
   "metadata": {},
   "outputs": [],
   "source": [
    "from xgboost import XGBClassifier\n",
    "#creating an instance\n",
    "xgb=XGBClassifier()\n",
    "xgb.fit(X_train,y_train)\n",
    "y_pred= xgb.predict(X_test)"
   ]
  },
  {
   "cell_type": "markdown",
   "id": "e9ffd5ff",
   "metadata": {},
   "source": [
    "# Performance Evaluation"
   ]
  },
  {
   "cell_type": "code",
   "execution_count": 220,
   "id": "9bcf3cdc",
   "metadata": {},
   "outputs": [
    {
     "name": "stdout",
     "output_type": "stream",
     "text": [
      "Accuracy is :  62.306368330464714\n"
     ]
    }
   ],
   "source": [
    "print(\"Accuracy is : \", accuracy_score(y_test, y_pred)*100)"
   ]
  },
  {
   "cell_type": "code",
   "execution_count": 221,
   "id": "40b05d4a",
   "metadata": {},
   "outputs": [
    {
     "name": "stdout",
     "output_type": "stream",
     "text": [
      "f1 score is 0.6230636833046471\n"
     ]
    }
   ],
   "source": [
    "print(\"f1 score is\" ,f1_score(y_test,y_pred,  pos_label='positive', average='micro'))"
   ]
  },
  {
   "cell_type": "markdown",
   "id": "567df224",
   "metadata": {},
   "source": [
    "# Confusion Matrix of Extra gradient boosting"
   ]
  },
  {
   "cell_type": "code",
   "execution_count": 154,
   "id": "dbf098e1",
   "metadata": {},
   "outputs": [
    {
     "data": {
      "text/plain": [
       "array([[185,   1,   3,   0,  24],\n",
       "       [  8,   9,  23,  12,  10],\n",
       "       [ 18,   7,  34,   4,  23],\n",
       "       [  7,  15,   9,  69,   5],\n",
       "       [ 31,   2,  14,   3,  65]], dtype=int64)"
      ]
     },
     "execution_count": 154,
     "metadata": {},
     "output_type": "execute_result"
    }
   ],
   "source": [
    "confusion_matrix(y_test,y_pred)"
   ]
  },
  {
   "cell_type": "markdown",
   "id": "340a6d98",
   "metadata": {},
   "source": [
    "# Inference"
   ]
  },
  {
   "cell_type": "markdown",
   "id": "d81f25c3",
   "metadata": {},
   "source": [
    "\n",
    "Accuracies of classification models:\n",
    "\n",
    "1.Logistic Regression - 66.95%\n",
    "\n",
    "2.KNN Model - 58.69%\n",
    "\n",
    "3.Decision Tree Classifier - 58.17%\n",
    "\n",
    "4.Support Vector Machine:\n",
    "\n",
    "    a.Linear SVM - 67.46%\n",
    "\n",
    "     b.Polynomial SVM - 61.27%\n",
    "\n",
    "     c.Radial SVM - 66.78%\n",
    "\n",
    "5.Random Forest - 61.10%\n",
    "  Fine-tuning Random Forest - 66.26%\n",
    "\n",
    "\n",
    "6.Gradient Boosting - 65.23%\n",
    "\n",
    "7. Extereme Gradient Boosting - 62.30%\n"
   ]
  },
  {
   "cell_type": "markdown",
   "id": "12f61d75",
   "metadata": {},
   "source": [
    "The best classification model was obtained by Linear Support Vector Machine. On performance evaluation, maximum accuracy of 67.46% has been achieved."
   ]
  },
  {
   "cell_type": "code",
   "execution_count": null,
   "id": "cb893be2",
   "metadata": {},
   "outputs": [],
   "source": []
  }
 ],
 "metadata": {
  "kernelspec": {
   "display_name": "Python 3 (ipykernel)",
   "language": "python",
   "name": "python3"
  },
  "language_info": {
   "codemirror_mode": {
    "name": "ipython",
    "version": 3
   },
   "file_extension": ".py",
   "mimetype": "text/x-python",
   "name": "python",
   "nbconvert_exporter": "python",
   "pygments_lexer": "ipython3",
   "version": "3.9.12"
  }
 },
 "nbformat": 4,
 "nbformat_minor": 5
}
